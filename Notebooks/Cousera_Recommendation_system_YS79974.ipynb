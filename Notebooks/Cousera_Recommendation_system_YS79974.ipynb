{
 "cells": [
  {
   "cell_type": "markdown",
   "id": "f8712fc5",
   "metadata": {
    "id": "f8712fc5"
   },
   "source": [
    "# Cousera Recommendation system"
   ]
  },
  {
   "cell_type": "markdown",
   "id": "b2761aa7",
   "metadata": {
    "id": "b2761aa7"
   },
   "source": [
    "## 1. Importing Libraries"
   ]
  },
  {
   "cell_type": "code",
   "execution_count": 1,
   "id": "051fc888",
   "metadata": {
    "id": "051fc888"
   },
   "outputs": [],
   "source": [
    "import warnings\n",
    "warnings.filterwarnings(\"ignore\")"
   ]
  },
  {
   "cell_type": "code",
   "execution_count": 2,
   "id": "66cd2e0b",
   "metadata": {
    "id": "66cd2e0b"
   },
   "outputs": [],
   "source": [
    "import pandas as pd\n",
    "import numpy as np\n",
    "import matplotlib.pyplot as plt\n",
    "import seaborn as sns"
   ]
  },
  {
   "cell_type": "code",
   "execution_count": 3,
   "id": "c3b7e352",
   "metadata": {
    "id": "c3b7e352"
   },
   "outputs": [],
   "source": [
    "import pandas as pd\n",
    "from sklearn.model_selection import train_test_split, GridSearchCV\n",
    "from sklearn.preprocessing import OneHotEncoder, StandardScaler\n",
    "from sklearn.ensemble import RandomForestRegressor\n",
    "from sklearn.pipeline import Pipeline\n",
    "from sklearn.compose import ColumnTransformer\n",
    "from sklearn.metrics import mean_squared_error\n",
    "from sklearn.feature_extraction.text import TfidfVectorizer\n",
    "from sklearn.base import BaseEstimator, TransformerMixin"
   ]
  },
  {
   "cell_type": "code",
   "execution_count": 4,
   "id": "85f7e18f",
   "metadata": {
    "id": "85f7e18f"
   },
   "outputs": [],
   "source": [
    "import pandas as pd\n",
    "from sklearn.feature_extraction.text import TfidfVectorizer\n",
    "from sklearn.metrics.pairwise import linear_kernel\n",
    "from sklearn.model_selection import train_test_split\n",
    "from sklearn.ensemble import RandomForestRegressor\n",
    "from sklearn.metrics import mean_squared_error\n",
    "from sklearn.preprocessing import LabelEncoder\n",
    "from sklearn.pipeline import FeatureUnion, Pipeline\n",
    "from sklearn.base import BaseEstimator, TransformerMixin\n",
    "from sklearn.compose import ColumnTransformer"
   ]
  },
  {
   "cell_type": "code",
   "execution_count": 5,
   "id": "d677e37f",
   "metadata": {
    "id": "d677e37f"
   },
   "outputs": [],
   "source": [
    "from sklearn.feature_extraction.text import TfidfVectorizer\n",
    "from sklearn.metrics.pairwise import cosine_similarity\n",
    "from sklearn.preprocessing import StandardScaler\n",
    "from sklearn.decomposition import PCA\n",
    "from sklearn.ensemble import RandomForestRegressor\n",
    "from sklearn.model_selection import train_test_split"
   ]
  },
  {
   "cell_type": "code",
   "execution_count": null,
   "id": "dk99gaSCmqYL",
   "metadata": {
    "id": "dk99gaSCmqYL"
   },
   "outputs": [],
   "source": []
  },
  {
   "cell_type": "markdown",
   "id": "3ca52e4d",
   "metadata": {
    "id": "3ca52e4d"
   },
   "source": [
    "## 2. Loading Data and Analyzing"
   ]
  },
  {
   "cell_type": "code",
   "execution_count": 6,
   "id": "bak5R8ximrMh",
   "metadata": {
    "id": "bak5R8ximrMh"
   },
   "outputs": [],
   "source": [
    "df = pd.read_csv(r'C:\\Users\\SANTOSH VELGAPURI\\Downloads\\CourseraDataset-Clean.csv')"
   ]
  },
  {
   "cell_type": "code",
   "execution_count": 7,
   "id": "a02cecc6",
   "metadata": {
    "colab": {
     "base_uri": "https://localhost:8080/",
     "height": 823
    },
    "id": "a02cecc6",
    "outputId": "440d1996-839e-481d-ed9c-bca4995d16cd"
   },
   "outputs": [
    {
     "data": {
      "text/html": [
       "<div>\n",
       "<style scoped>\n",
       "    .dataframe tbody tr th:only-of-type {\n",
       "        vertical-align: middle;\n",
       "    }\n",
       "\n",
       "    .dataframe tbody tr th {\n",
       "        vertical-align: top;\n",
       "    }\n",
       "\n",
       "    .dataframe thead th {\n",
       "        text-align: right;\n",
       "    }\n",
       "</style>\n",
       "<table border=\"1\" class=\"dataframe\">\n",
       "  <thead>\n",
       "    <tr style=\"text-align: right;\">\n",
       "      <th></th>\n",
       "      <th>Course Title</th>\n",
       "      <th>Rating</th>\n",
       "      <th>Level</th>\n",
       "      <th>Schedule</th>\n",
       "      <th>What you will learn</th>\n",
       "      <th>Skill gain</th>\n",
       "      <th>Modules</th>\n",
       "      <th>Instructor</th>\n",
       "      <th>Offered By</th>\n",
       "      <th>Keyword</th>\n",
       "      <th>Course Url</th>\n",
       "      <th>Duration to complete (Approx.)</th>\n",
       "      <th>Number of Review</th>\n",
       "    </tr>\n",
       "  </thead>\n",
       "  <tbody>\n",
       "    <tr>\n",
       "      <th>0</th>\n",
       "      <td>Fashion as Design</td>\n",
       "      <td>4.8</td>\n",
       "      <td>Beginner level</td>\n",
       "      <td>Flexible schedule</td>\n",
       "      <td>Not specified</td>\n",
       "      <td>Art History, Art, History, Creativity</td>\n",
       "      <td>Introduction, Heroes, Silhouettes, Coutures, L...</td>\n",
       "      <td>Anna Burckhardt, Paola Antonelli, Michelle Mil...</td>\n",
       "      <td>The Museum of Modern Art</td>\n",
       "      <td>Arts and Humanities</td>\n",
       "      <td>https://www.coursera.org/learn/fashion-design</td>\n",
       "      <td>20.0</td>\n",
       "      <td>2813</td>\n",
       "    </tr>\n",
       "    <tr>\n",
       "      <th>1</th>\n",
       "      <td>Modern American Poetry</td>\n",
       "      <td>4.4</td>\n",
       "      <td>Beginner level</td>\n",
       "      <td>Flexible schedule</td>\n",
       "      <td>Not specified</td>\n",
       "      <td>Not specified</td>\n",
       "      <td>Orientation, Module 1, Module 2, Module 3, Mod...</td>\n",
       "      <td>Cary Nelson</td>\n",
       "      <td>University of Illinois at Urbana-Champaign</td>\n",
       "      <td>Arts and Humanities</td>\n",
       "      <td>https://www.coursera.org/learn/modern-american...</td>\n",
       "      <td>34.0</td>\n",
       "      <td>100</td>\n",
       "    </tr>\n",
       "    <tr>\n",
       "      <th>2</th>\n",
       "      <td>Pixel Art for Video Games</td>\n",
       "      <td>4.5</td>\n",
       "      <td>Beginner level</td>\n",
       "      <td>Flexible schedule</td>\n",
       "      <td>Not specified</td>\n",
       "      <td>Not specified</td>\n",
       "      <td>Week 1: Introduction to Pixel Art, Week 2: Pix...</td>\n",
       "      <td>Andrew Dennis, Ricardo Guimaraes</td>\n",
       "      <td>Michigan State University</td>\n",
       "      <td>Arts and Humanities</td>\n",
       "      <td>https://www.coursera.org/learn/pixel-art-video...</td>\n",
       "      <td>9.0</td>\n",
       "      <td>227</td>\n",
       "    </tr>\n",
       "    <tr>\n",
       "      <th>3</th>\n",
       "      <td>Distribución digital de la música independiente</td>\n",
       "      <td>0.0</td>\n",
       "      <td>Beginner level</td>\n",
       "      <td>Flexible schedule</td>\n",
       "      <td>Not specified</td>\n",
       "      <td>Not specified</td>\n",
       "      <td>Semana 1, Semana 2, Semana 3, Semana 4</td>\n",
       "      <td>Eduardo de la Vara Brown.</td>\n",
       "      <td>SAE Institute México</td>\n",
       "      <td>Arts and Humanities</td>\n",
       "      <td>https://www.coursera.org/learn/distribucion-di...</td>\n",
       "      <td>8.0</td>\n",
       "      <td>0</td>\n",
       "    </tr>\n",
       "    <tr>\n",
       "      <th>4</th>\n",
       "      <td>The Blues: Understanding and Performing an Ame...</td>\n",
       "      <td>4.8</td>\n",
       "      <td>Beginner level</td>\n",
       "      <td>Flexible schedule</td>\n",
       "      <td>Students will be able to describe the blues as...</td>\n",
       "      <td>Music, Chord, Jazz, Jazz Improvisation</td>\n",
       "      <td>Blues Progressions – Theory and Practice , Blu...</td>\n",
       "      <td>Dariusz Terefenko</td>\n",
       "      <td>University of Rochester</td>\n",
       "      <td>Arts and Humanities</td>\n",
       "      <td>https://www.coursera.org/learn/the-blues</td>\n",
       "      <td>11.0</td>\n",
       "      <td>582</td>\n",
       "    </tr>\n",
       "    <tr>\n",
       "      <th>...</th>\n",
       "      <td>...</td>\n",
       "      <td>...</td>\n",
       "      <td>...</td>\n",
       "      <td>...</td>\n",
       "      <td>...</td>\n",
       "      <td>...</td>\n",
       "      <td>...</td>\n",
       "      <td>...</td>\n",
       "      <td>...</td>\n",
       "      <td>...</td>\n",
       "      <td>...</td>\n",
       "      <td>...</td>\n",
       "      <td>...</td>\n",
       "    </tr>\n",
       "    <tr>\n",
       "      <th>8365</th>\n",
       "      <td>Architecting with Google Kubernetes Engine: Pr...</td>\n",
       "      <td>4.9</td>\n",
       "      <td>Intermediate level</td>\n",
       "      <td>Flexible schedule</td>\n",
       "      <td>Not specified</td>\n",
       "      <td>Not specified</td>\n",
       "      <td>Introducción al curso, Control de acceso y seg...</td>\n",
       "      <td>Google Cloud Training</td>\n",
       "      <td>Google Cloud</td>\n",
       "      <td>Social Sciences</td>\n",
       "      <td>https://www.coursera.org/learn/deploying-secur...</td>\n",
       "      <td>14.0</td>\n",
       "      <td>30</td>\n",
       "    </tr>\n",
       "    <tr>\n",
       "      <th>8366</th>\n",
       "      <td>Computational Thinking for K-12 Educators: Nes...</td>\n",
       "      <td>0.0</td>\n",
       "      <td>Beginner level</td>\n",
       "      <td>Flexible schedule</td>\n",
       "      <td>Not specified</td>\n",
       "      <td>Education, want, Resource, Causality</td>\n",
       "      <td>Course Orientation, Nested If/Else Part 1, Nes...</td>\n",
       "      <td>Beth Simon</td>\n",
       "      <td>University of California San Diego</td>\n",
       "      <td>Social Sciences</td>\n",
       "      <td>https://www.coursera.org/learn/block-programmi...</td>\n",
       "      <td>11.0</td>\n",
       "      <td>0</td>\n",
       "    </tr>\n",
       "    <tr>\n",
       "      <th>8367</th>\n",
       "      <td>Cómo combinar y analizar datos complejos</td>\n",
       "      <td>0.0</td>\n",
       "      <td>Not specified</td>\n",
       "      <td>Flexible schedule</td>\n",
       "      <td>Not specified</td>\n",
       "      <td>Not specified</td>\n",
       "      <td>Estimación básica, Modelos, Vinculación de reg...</td>\n",
       "      <td>Richard Valliant, Ph.D.</td>\n",
       "      <td>University of Maryland, College Park</td>\n",
       "      <td>Social Sciences</td>\n",
       "      <td>https://www.coursera.org/learn/data-collection...</td>\n",
       "      <td>9.0</td>\n",
       "      <td>0</td>\n",
       "    </tr>\n",
       "    <tr>\n",
       "      <th>8368</th>\n",
       "      <td>Architecting with Google Kubernetes Engine: Wo...</td>\n",
       "      <td>0.0</td>\n",
       "      <td>Intermediate level</td>\n",
       "      <td>Flexible schedule</td>\n",
       "      <td>Not specified</td>\n",
       "      <td>Not specified</td>\n",
       "      <td>Introdução ao curso, Operações do Kubernetes, ...</td>\n",
       "      <td>Google Cloud Training</td>\n",
       "      <td>Google Cloud</td>\n",
       "      <td>Social Sciences</td>\n",
       "      <td>https://www.coursera.org/learn/deploying-workl...</td>\n",
       "      <td>19.0</td>\n",
       "      <td>0</td>\n",
       "    </tr>\n",
       "    <tr>\n",
       "      <th>8369</th>\n",
       "      <td>Visualizing static networks with R</td>\n",
       "      <td>0.0</td>\n",
       "      <td>Intermediate level</td>\n",
       "      <td>Hands-on learning</td>\n",
       "      <td>Learn to preprocess raw data to create nodes a...</td>\n",
       "      <td>Network Analysis, igraph, R Programming, Graph...</td>\n",
       "      <td>Learn step-by-step</td>\n",
       "      <td>You (Lilian) Cheng</td>\n",
       "      <td>Coursera Project Network</td>\n",
       "      <td>Social Sciences</td>\n",
       "      <td>https://www.coursera.org/projects/visualizing-...</td>\n",
       "      <td>2.0</td>\n",
       "      <td>0</td>\n",
       "    </tr>\n",
       "  </tbody>\n",
       "</table>\n",
       "<p>8370 rows × 13 columns</p>\n",
       "</div>"
      ],
      "text/plain": [
       "                                           Course Title  Rating  \\\n",
       "0                                     Fashion as Design     4.8   \n",
       "1                                Modern American Poetry     4.4   \n",
       "2                             Pixel Art for Video Games     4.5   \n",
       "3       Distribución digital de la música independiente     0.0   \n",
       "4     The Blues: Understanding and Performing an Ame...     4.8   \n",
       "...                                                 ...     ...   \n",
       "8365  Architecting with Google Kubernetes Engine: Pr...     4.9   \n",
       "8366  Computational Thinking for K-12 Educators: Nes...     0.0   \n",
       "8367           Cómo combinar y analizar datos complejos     0.0   \n",
       "8368  Architecting with Google Kubernetes Engine: Wo...     0.0   \n",
       "8369                 Visualizing static networks with R     0.0   \n",
       "\n",
       "                   Level           Schedule  \\\n",
       "0         Beginner level  Flexible schedule   \n",
       "1         Beginner level  Flexible schedule   \n",
       "2         Beginner level  Flexible schedule   \n",
       "3         Beginner level  Flexible schedule   \n",
       "4         Beginner level  Flexible schedule   \n",
       "...                  ...                ...   \n",
       "8365  Intermediate level  Flexible schedule   \n",
       "8366      Beginner level  Flexible schedule   \n",
       "8367       Not specified  Flexible schedule   \n",
       "8368  Intermediate level  Flexible schedule   \n",
       "8369  Intermediate level  Hands-on learning   \n",
       "\n",
       "                                    What you will learn  \\\n",
       "0                                         Not specified   \n",
       "1                                         Not specified   \n",
       "2                                         Not specified   \n",
       "3                                         Not specified   \n",
       "4     Students will be able to describe the blues as...   \n",
       "...                                                 ...   \n",
       "8365                                      Not specified   \n",
       "8366                                      Not specified   \n",
       "8367                                      Not specified   \n",
       "8368                                      Not specified   \n",
       "8369  Learn to preprocess raw data to create nodes a...   \n",
       "\n",
       "                                             Skill gain  \\\n",
       "0                 Art History, Art, History, Creativity   \n",
       "1                                         Not specified   \n",
       "2                                         Not specified   \n",
       "3                                         Not specified   \n",
       "4                Music, Chord, Jazz, Jazz Improvisation   \n",
       "...                                                 ...   \n",
       "8365                                      Not specified   \n",
       "8366               Education, want, Resource, Causality   \n",
       "8367                                      Not specified   \n",
       "8368                                      Not specified   \n",
       "8369  Network Analysis, igraph, R Programming, Graph...   \n",
       "\n",
       "                                                Modules  \\\n",
       "0     Introduction, Heroes, Silhouettes, Coutures, L...   \n",
       "1     Orientation, Module 1, Module 2, Module 3, Mod...   \n",
       "2     Week 1: Introduction to Pixel Art, Week 2: Pix...   \n",
       "3                Semana 1, Semana 2, Semana 3, Semana 4   \n",
       "4     Blues Progressions – Theory and Practice , Blu...   \n",
       "...                                                 ...   \n",
       "8365  Introducción al curso, Control de acceso y seg...   \n",
       "8366  Course Orientation, Nested If/Else Part 1, Nes...   \n",
       "8367  Estimación básica, Modelos, Vinculación de reg...   \n",
       "8368  Introdução ao curso, Operações do Kubernetes, ...   \n",
       "8369                                 Learn step-by-step   \n",
       "\n",
       "                                             Instructor  \\\n",
       "0     Anna Burckhardt, Paola Antonelli, Michelle Mil...   \n",
       "1                                           Cary Nelson   \n",
       "2                      Andrew Dennis, Ricardo Guimaraes   \n",
       "3                             Eduardo de la Vara Brown.   \n",
       "4                                     Dariusz Terefenko   \n",
       "...                                                 ...   \n",
       "8365                              Google Cloud Training   \n",
       "8366                                         Beth Simon   \n",
       "8367                            Richard Valliant, Ph.D.   \n",
       "8368                              Google Cloud Training   \n",
       "8369                                 You (Lilian) Cheng   \n",
       "\n",
       "                                      Offered By              Keyword  \\\n",
       "0                       The Museum of Modern Art  Arts and Humanities   \n",
       "1     University of Illinois at Urbana-Champaign  Arts and Humanities   \n",
       "2                      Michigan State University  Arts and Humanities   \n",
       "3                           SAE Institute México  Arts and Humanities   \n",
       "4                        University of Rochester  Arts and Humanities   \n",
       "...                                          ...                  ...   \n",
       "8365                                Google Cloud      Social Sciences   \n",
       "8366          University of California San Diego      Social Sciences   \n",
       "8367        University of Maryland, College Park      Social Sciences   \n",
       "8368                                Google Cloud      Social Sciences   \n",
       "8369                    Coursera Project Network      Social Sciences   \n",
       "\n",
       "                                             Course Url  \\\n",
       "0         https://www.coursera.org/learn/fashion-design   \n",
       "1     https://www.coursera.org/learn/modern-american...   \n",
       "2     https://www.coursera.org/learn/pixel-art-video...   \n",
       "3     https://www.coursera.org/learn/distribucion-di...   \n",
       "4              https://www.coursera.org/learn/the-blues   \n",
       "...                                                 ...   \n",
       "8365  https://www.coursera.org/learn/deploying-secur...   \n",
       "8366  https://www.coursera.org/learn/block-programmi...   \n",
       "8367  https://www.coursera.org/learn/data-collection...   \n",
       "8368  https://www.coursera.org/learn/deploying-workl...   \n",
       "8369  https://www.coursera.org/projects/visualizing-...   \n",
       "\n",
       "      Duration to complete (Approx.)  Number of Review  \n",
       "0                               20.0              2813  \n",
       "1                               34.0               100  \n",
       "2                                9.0               227  \n",
       "3                                8.0                 0  \n",
       "4                               11.0               582  \n",
       "...                              ...               ...  \n",
       "8365                            14.0                30  \n",
       "8366                            11.0                 0  \n",
       "8367                             9.0                 0  \n",
       "8368                            19.0                 0  \n",
       "8369                             2.0                 0  \n",
       "\n",
       "[8370 rows x 13 columns]"
      ]
     },
     "execution_count": 7,
     "metadata": {},
     "output_type": "execute_result"
    }
   ],
   "source": [
    "\n",
    "df"
   ]
  },
  {
   "cell_type": "code",
   "execution_count": 8,
   "id": "a7c67099",
   "metadata": {
    "colab": {
     "base_uri": "https://localhost:8080/",
     "height": 745
    },
    "id": "a7c67099",
    "outputId": "ae813043-92df-4b36-a802-9500663ba924"
   },
   "outputs": [
    {
     "data": {
      "text/html": [
       "<div>\n",
       "<style scoped>\n",
       "    .dataframe tbody tr th:only-of-type {\n",
       "        vertical-align: middle;\n",
       "    }\n",
       "\n",
       "    .dataframe tbody tr th {\n",
       "        vertical-align: top;\n",
       "    }\n",
       "\n",
       "    .dataframe thead th {\n",
       "        text-align: right;\n",
       "    }\n",
       "</style>\n",
       "<table border=\"1\" class=\"dataframe\">\n",
       "  <thead>\n",
       "    <tr style=\"text-align: right;\">\n",
       "      <th></th>\n",
       "      <th>Course Title</th>\n",
       "      <th>Rating</th>\n",
       "      <th>Level</th>\n",
       "      <th>Schedule</th>\n",
       "      <th>What you will learn</th>\n",
       "      <th>Skill gain</th>\n",
       "      <th>Modules</th>\n",
       "      <th>Instructor</th>\n",
       "      <th>Offered By</th>\n",
       "      <th>Keyword</th>\n",
       "      <th>Course Url</th>\n",
       "      <th>Duration to complete (Approx.)</th>\n",
       "      <th>Number of Review</th>\n",
       "    </tr>\n",
       "  </thead>\n",
       "  <tbody>\n",
       "    <tr>\n",
       "      <th>0</th>\n",
       "      <td>Fashion as Design</td>\n",
       "      <td>4.8</td>\n",
       "      <td>Beginner level</td>\n",
       "      <td>Flexible schedule</td>\n",
       "      <td>Not specified</td>\n",
       "      <td>Art History, Art, History, Creativity</td>\n",
       "      <td>Introduction, Heroes, Silhouettes, Coutures, L...</td>\n",
       "      <td>Anna Burckhardt, Paola Antonelli, Michelle Mil...</td>\n",
       "      <td>The Museum of Modern Art</td>\n",
       "      <td>Arts and Humanities</td>\n",
       "      <td>https://www.coursera.org/learn/fashion-design</td>\n",
       "      <td>20.0</td>\n",
       "      <td>2813</td>\n",
       "    </tr>\n",
       "    <tr>\n",
       "      <th>1</th>\n",
       "      <td>Modern American Poetry</td>\n",
       "      <td>4.4</td>\n",
       "      <td>Beginner level</td>\n",
       "      <td>Flexible schedule</td>\n",
       "      <td>Not specified</td>\n",
       "      <td>Not specified</td>\n",
       "      <td>Orientation, Module 1, Module 2, Module 3, Mod...</td>\n",
       "      <td>Cary Nelson</td>\n",
       "      <td>University of Illinois at Urbana-Champaign</td>\n",
       "      <td>Arts and Humanities</td>\n",
       "      <td>https://www.coursera.org/learn/modern-american...</td>\n",
       "      <td>34.0</td>\n",
       "      <td>100</td>\n",
       "    </tr>\n",
       "    <tr>\n",
       "      <th>2</th>\n",
       "      <td>Pixel Art for Video Games</td>\n",
       "      <td>4.5</td>\n",
       "      <td>Beginner level</td>\n",
       "      <td>Flexible schedule</td>\n",
       "      <td>Not specified</td>\n",
       "      <td>Not specified</td>\n",
       "      <td>Week 1: Introduction to Pixel Art, Week 2: Pix...</td>\n",
       "      <td>Andrew Dennis, Ricardo Guimaraes</td>\n",
       "      <td>Michigan State University</td>\n",
       "      <td>Arts and Humanities</td>\n",
       "      <td>https://www.coursera.org/learn/pixel-art-video...</td>\n",
       "      <td>9.0</td>\n",
       "      <td>227</td>\n",
       "    </tr>\n",
       "    <tr>\n",
       "      <th>3</th>\n",
       "      <td>Distribución digital de la música independiente</td>\n",
       "      <td>0.0</td>\n",
       "      <td>Beginner level</td>\n",
       "      <td>Flexible schedule</td>\n",
       "      <td>Not specified</td>\n",
       "      <td>Not specified</td>\n",
       "      <td>Semana 1, Semana 2, Semana 3, Semana 4</td>\n",
       "      <td>Eduardo de la Vara Brown.</td>\n",
       "      <td>SAE Institute México</td>\n",
       "      <td>Arts and Humanities</td>\n",
       "      <td>https://www.coursera.org/learn/distribucion-di...</td>\n",
       "      <td>8.0</td>\n",
       "      <td>0</td>\n",
       "    </tr>\n",
       "    <tr>\n",
       "      <th>4</th>\n",
       "      <td>The Blues: Understanding and Performing an Ame...</td>\n",
       "      <td>4.8</td>\n",
       "      <td>Beginner level</td>\n",
       "      <td>Flexible schedule</td>\n",
       "      <td>Students will be able to describe the blues as...</td>\n",
       "      <td>Music, Chord, Jazz, Jazz Improvisation</td>\n",
       "      <td>Blues Progressions – Theory and Practice , Blu...</td>\n",
       "      <td>Dariusz Terefenko</td>\n",
       "      <td>University of Rochester</td>\n",
       "      <td>Arts and Humanities</td>\n",
       "      <td>https://www.coursera.org/learn/the-blues</td>\n",
       "      <td>11.0</td>\n",
       "      <td>582</td>\n",
       "    </tr>\n",
       "    <tr>\n",
       "      <th>5</th>\n",
       "      <td>So You Think You Know Tango?</td>\n",
       "      <td>4.6</td>\n",
       "      <td>Beginner level</td>\n",
       "      <td>Flexible schedule</td>\n",
       "      <td>Gain an appreciation for the Argentine Tango a...</td>\n",
       "      <td>Not specified</td>\n",
       "      <td>Module 1: The Many Dimensions of Tango and Tan...</td>\n",
       "      <td>Kristin Wendland</td>\n",
       "      <td>Emory University</td>\n",
       "      <td>Arts and Humanities</td>\n",
       "      <td>https://www.coursera.org/learn/tango</td>\n",
       "      <td>5.0</td>\n",
       "      <td>107</td>\n",
       "    </tr>\n",
       "    <tr>\n",
       "      <th>6</th>\n",
       "      <td>The Politics of Skepticism</td>\n",
       "      <td>4.5</td>\n",
       "      <td>Intermediate level</td>\n",
       "      <td>Flexible schedule</td>\n",
       "      <td>Not specified</td>\n",
       "      <td>Not specified</td>\n",
       "      <td>Political Origins, Skepticism and Religion, Sk...</td>\n",
       "      <td>Tim De Mey, Wiep van Bunge</td>\n",
       "      <td>Erasmus University Rotterdam</td>\n",
       "      <td>Arts and Humanities</td>\n",
       "      <td>https://www.coursera.org/learn/erasmus-philoso...</td>\n",
       "      <td>13.0</td>\n",
       "      <td>38</td>\n",
       "    </tr>\n",
       "    <tr>\n",
       "      <th>7</th>\n",
       "      <td>Становлення сучасної України</td>\n",
       "      <td>0.0</td>\n",
       "      <td>Beginner level</td>\n",
       "      <td>Flexible schedule</td>\n",
       "      <td>Not specified</td>\n",
       "      <td>Not specified</td>\n",
       "      <td>Становлення сучасної України</td>\n",
       "      <td>Timothy Snyder</td>\n",
       "      <td>Yale University</td>\n",
       "      <td>Arts and Humanities</td>\n",
       "      <td>https://www.coursera.org/learn/the-making-of-m...</td>\n",
       "      <td>23.0</td>\n",
       "      <td>0</td>\n",
       "    </tr>\n",
       "    <tr>\n",
       "      <th>8</th>\n",
       "      <td>Exploring Beethoven's Piano Sonatas Part 4</td>\n",
       "      <td>4.9</td>\n",
       "      <td>Intermediate level</td>\n",
       "      <td>Flexible schedule</td>\n",
       "      <td>Not specified</td>\n",
       "      <td>Not specified</td>\n",
       "      <td>Welcome to Class!, Op. 2, No. 2, Op. 10, No. 3...</td>\n",
       "      <td>Jonathan Biss</td>\n",
       "      <td>Curtis Institute of Music</td>\n",
       "      <td>Arts and Humanities</td>\n",
       "      <td>https://www.coursera.org/learn/exploring-beeth...</td>\n",
       "      <td>5.0</td>\n",
       "      <td>63</td>\n",
       "    </tr>\n",
       "    <tr>\n",
       "      <th>9</th>\n",
       "      <td>悖论：思维的魔方</td>\n",
       "      <td>4.8</td>\n",
       "      <td>Beginner level</td>\n",
       "      <td>Flexible schedule</td>\n",
       "      <td>Not specified</td>\n",
       "      <td>Not specified</td>\n",
       "      <td>预备知识和悖论概述, 上帝悖论和连锁悖论, 芝诺悖论和无穷之谜, 逻辑-集合论悖论和语义悖论...</td>\n",
       "      <td>陈波</td>\n",
       "      <td>Peking University</td>\n",
       "      <td>Arts and Humanities</td>\n",
       "      <td>https://www.coursera.org/learn/bei-lun</td>\n",
       "      <td>44.0</td>\n",
       "      <td>39</td>\n",
       "    </tr>\n",
       "  </tbody>\n",
       "</table>\n",
       "</div>"
      ],
      "text/plain": [
       "                                        Course Title  Rating  \\\n",
       "0                                  Fashion as Design     4.8   \n",
       "1                             Modern American Poetry     4.4   \n",
       "2                          Pixel Art for Video Games     4.5   \n",
       "3    Distribución digital de la música independiente     0.0   \n",
       "4  The Blues: Understanding and Performing an Ame...     4.8   \n",
       "5                       So You Think You Know Tango?     4.6   \n",
       "6                         The Politics of Skepticism     4.5   \n",
       "7                       Становлення сучасної України     0.0   \n",
       "8         Exploring Beethoven's Piano Sonatas Part 4     4.9   \n",
       "9                                           悖论：思维的魔方     4.8   \n",
       "\n",
       "                Level           Schedule  \\\n",
       "0      Beginner level  Flexible schedule   \n",
       "1      Beginner level  Flexible schedule   \n",
       "2      Beginner level  Flexible schedule   \n",
       "3      Beginner level  Flexible schedule   \n",
       "4      Beginner level  Flexible schedule   \n",
       "5      Beginner level  Flexible schedule   \n",
       "6  Intermediate level  Flexible schedule   \n",
       "7      Beginner level  Flexible schedule   \n",
       "8  Intermediate level  Flexible schedule   \n",
       "9      Beginner level  Flexible schedule   \n",
       "\n",
       "                                 What you will learn  \\\n",
       "0                                      Not specified   \n",
       "1                                      Not specified   \n",
       "2                                      Not specified   \n",
       "3                                      Not specified   \n",
       "4  Students will be able to describe the blues as...   \n",
       "5  Gain an appreciation for the Argentine Tango a...   \n",
       "6                                      Not specified   \n",
       "7                                      Not specified   \n",
       "8                                      Not specified   \n",
       "9                                      Not specified   \n",
       "\n",
       "                               Skill gain  \\\n",
       "0   Art History, Art, History, Creativity   \n",
       "1                           Not specified   \n",
       "2                           Not specified   \n",
       "3                           Not specified   \n",
       "4  Music, Chord, Jazz, Jazz Improvisation   \n",
       "5                           Not specified   \n",
       "6                           Not specified   \n",
       "7                           Not specified   \n",
       "8                           Not specified   \n",
       "9                           Not specified   \n",
       "\n",
       "                                             Modules  \\\n",
       "0  Introduction, Heroes, Silhouettes, Coutures, L...   \n",
       "1  Orientation, Module 1, Module 2, Module 3, Mod...   \n",
       "2  Week 1: Introduction to Pixel Art, Week 2: Pix...   \n",
       "3             Semana 1, Semana 2, Semana 3, Semana 4   \n",
       "4  Blues Progressions – Theory and Practice , Blu...   \n",
       "5  Module 1: The Many Dimensions of Tango and Tan...   \n",
       "6  Political Origins, Skepticism and Religion, Sk...   \n",
       "7                       Становлення сучасної України   \n",
       "8  Welcome to Class!, Op. 2, No. 2, Op. 10, No. 3...   \n",
       "9  预备知识和悖论概述, 上帝悖论和连锁悖论, 芝诺悖论和无穷之谜, 逻辑-集合论悖论和语义悖论...   \n",
       "\n",
       "                                          Instructor  \\\n",
       "0  Anna Burckhardt, Paola Antonelli, Michelle Mil...   \n",
       "1                                        Cary Nelson   \n",
       "2                   Andrew Dennis, Ricardo Guimaraes   \n",
       "3                          Eduardo de la Vara Brown.   \n",
       "4                                  Dariusz Terefenko   \n",
       "5                                   Kristin Wendland   \n",
       "6                         Tim De Mey, Wiep van Bunge   \n",
       "7                                     Timothy Snyder   \n",
       "8                                      Jonathan Biss   \n",
       "9                                                 陈波   \n",
       "\n",
       "                                   Offered By              Keyword  \\\n",
       "0                    The Museum of Modern Art  Arts and Humanities   \n",
       "1  University of Illinois at Urbana-Champaign  Arts and Humanities   \n",
       "2                   Michigan State University  Arts and Humanities   \n",
       "3                        SAE Institute México  Arts and Humanities   \n",
       "4                     University of Rochester  Arts and Humanities   \n",
       "5                            Emory University  Arts and Humanities   \n",
       "6                Erasmus University Rotterdam  Arts and Humanities   \n",
       "7                             Yale University  Arts and Humanities   \n",
       "8                   Curtis Institute of Music  Arts and Humanities   \n",
       "9                           Peking University  Arts and Humanities   \n",
       "\n",
       "                                          Course Url  \\\n",
       "0      https://www.coursera.org/learn/fashion-design   \n",
       "1  https://www.coursera.org/learn/modern-american...   \n",
       "2  https://www.coursera.org/learn/pixel-art-video...   \n",
       "3  https://www.coursera.org/learn/distribucion-di...   \n",
       "4           https://www.coursera.org/learn/the-blues   \n",
       "5               https://www.coursera.org/learn/tango   \n",
       "6  https://www.coursera.org/learn/erasmus-philoso...   \n",
       "7  https://www.coursera.org/learn/the-making-of-m...   \n",
       "8  https://www.coursera.org/learn/exploring-beeth...   \n",
       "9             https://www.coursera.org/learn/bei-lun   \n",
       "\n",
       "   Duration to complete (Approx.)  Number of Review  \n",
       "0                            20.0              2813  \n",
       "1                            34.0               100  \n",
       "2                             9.0               227  \n",
       "3                             8.0                 0  \n",
       "4                            11.0               582  \n",
       "5                             5.0               107  \n",
       "6                            13.0                38  \n",
       "7                            23.0                 0  \n",
       "8                             5.0                63  \n",
       "9                            44.0                39  "
      ]
     },
     "execution_count": 8,
     "metadata": {},
     "output_type": "execute_result"
    }
   ],
   "source": [
    "# Display the first few rows of the dataset\n",
    "df.head(10)"
   ]
  },
  {
   "cell_type": "code",
   "execution_count": 9,
   "id": "647c3e50",
   "metadata": {
    "colab": {
     "base_uri": "https://localhost:8080/",
     "height": 762
    },
    "id": "647c3e50",
    "outputId": "6127f7a7-a6a6-4acb-f32d-bf4f3c2b7c04"
   },
   "outputs": [
    {
     "data": {
      "text/html": [
       "<div>\n",
       "<style scoped>\n",
       "    .dataframe tbody tr th:only-of-type {\n",
       "        vertical-align: middle;\n",
       "    }\n",
       "\n",
       "    .dataframe tbody tr th {\n",
       "        vertical-align: top;\n",
       "    }\n",
       "\n",
       "    .dataframe thead th {\n",
       "        text-align: right;\n",
       "    }\n",
       "</style>\n",
       "<table border=\"1\" class=\"dataframe\">\n",
       "  <thead>\n",
       "    <tr style=\"text-align: right;\">\n",
       "      <th></th>\n",
       "      <th>Course Title</th>\n",
       "      <th>Rating</th>\n",
       "      <th>Level</th>\n",
       "      <th>Schedule</th>\n",
       "      <th>What you will learn</th>\n",
       "      <th>Skill gain</th>\n",
       "      <th>Modules</th>\n",
       "      <th>Instructor</th>\n",
       "      <th>Offered By</th>\n",
       "      <th>Keyword</th>\n",
       "      <th>Course Url</th>\n",
       "      <th>Duration to complete (Approx.)</th>\n",
       "      <th>Number of Review</th>\n",
       "    </tr>\n",
       "  </thead>\n",
       "  <tbody>\n",
       "    <tr>\n",
       "      <th>8360</th>\n",
       "      <td>Felicidad y Políticas Públicas</td>\n",
       "      <td>0.0</td>\n",
       "      <td>Beginner level</td>\n",
       "      <td>Flexible schedule</td>\n",
       "      <td>Conocer las características de los conceptos d...</td>\n",
       "      <td>Democracia, Ciudadanía, Políticas públicas, Fe...</td>\n",
       "      <td>Explorando los conceptos de felicidad y políti...</td>\n",
       "      <td>Graciela Tonon</td>\n",
       "      <td>Universidad de Palermo</td>\n",
       "      <td>Social Sciences</td>\n",
       "      <td>https://www.coursera.org/learn/felicidad-y-pol...</td>\n",
       "      <td>13.0</td>\n",
       "      <td>0</td>\n",
       "    </tr>\n",
       "    <tr>\n",
       "      <th>8361</th>\n",
       "      <td>Teaching Impacts of Technology: Workplace of t...</td>\n",
       "      <td>0.0</td>\n",
       "      <td>Beginner level</td>\n",
       "      <td>Flexible schedule</td>\n",
       "      <td>Not specified</td>\n",
       "      <td>Not specified</td>\n",
       "      <td>Course Orientation, Getting a Job in New Ways,...</td>\n",
       "      <td>Beth Simon</td>\n",
       "      <td>University of California San Diego</td>\n",
       "      <td>Social Sciences</td>\n",
       "      <td>https://www.coursera.org/learn/teach-impacts-t...</td>\n",
       "      <td>12.0</td>\n",
       "      <td>0</td>\n",
       "    </tr>\n",
       "    <tr>\n",
       "      <th>8362</th>\n",
       "      <td>Teaching Impacts of Technology: Relationships</td>\n",
       "      <td>0.0</td>\n",
       "      <td>Beginner level</td>\n",
       "      <td>Flexible schedule</td>\n",
       "      <td>Not specified</td>\n",
       "      <td>Not specified</td>\n",
       "      <td>Course Orientation, Keeping Connected in a Glo...</td>\n",
       "      <td>Beth Simon</td>\n",
       "      <td>University of California San Diego</td>\n",
       "      <td>Social Sciences</td>\n",
       "      <td>https://www.coursera.org/learn/teach-impacts-t...</td>\n",
       "      <td>10.0</td>\n",
       "      <td>0</td>\n",
       "    </tr>\n",
       "    <tr>\n",
       "      <th>8363</th>\n",
       "      <td>Computational Thinking for K-12 Educators: Abs...</td>\n",
       "      <td>0.0</td>\n",
       "      <td>Beginner level</td>\n",
       "      <td>Flexible schedule</td>\n",
       "      <td>Not specified</td>\n",
       "      <td>Education, want, belief, aunt</td>\n",
       "      <td>Course Orientation, Abstractions Part 1, Abstr...</td>\n",
       "      <td>Beth Simon</td>\n",
       "      <td>University of California San Diego</td>\n",
       "      <td>Social Sciences</td>\n",
       "      <td>https://www.coursera.org/learn/block-programmi...</td>\n",
       "      <td>9.0</td>\n",
       "      <td>0</td>\n",
       "    </tr>\n",
       "    <tr>\n",
       "      <th>8364</th>\n",
       "      <td>L’engagement efficace de la société civile dan...</td>\n",
       "      <td>0.0</td>\n",
       "      <td>Intermediate level</td>\n",
       "      <td>Flexible schedule</td>\n",
       "      <td>Not specified</td>\n",
       "      <td>Not specified</td>\n",
       "      <td>Module 1 : Introduction à un engagement effica...</td>\n",
       "      <td>Sanne Huesken</td>\n",
       "      <td>Erasmus University Rotterdam</td>\n",
       "      <td>Social Sciences</td>\n",
       "      <td>https://www.coursera.org/learn/engagement-effi...</td>\n",
       "      <td>13.0</td>\n",
       "      <td>0</td>\n",
       "    </tr>\n",
       "    <tr>\n",
       "      <th>8365</th>\n",
       "      <td>Architecting with Google Kubernetes Engine: Pr...</td>\n",
       "      <td>4.9</td>\n",
       "      <td>Intermediate level</td>\n",
       "      <td>Flexible schedule</td>\n",
       "      <td>Not specified</td>\n",
       "      <td>Not specified</td>\n",
       "      <td>Introducción al curso, Control de acceso y seg...</td>\n",
       "      <td>Google Cloud Training</td>\n",
       "      <td>Google Cloud</td>\n",
       "      <td>Social Sciences</td>\n",
       "      <td>https://www.coursera.org/learn/deploying-secur...</td>\n",
       "      <td>14.0</td>\n",
       "      <td>30</td>\n",
       "    </tr>\n",
       "    <tr>\n",
       "      <th>8366</th>\n",
       "      <td>Computational Thinking for K-12 Educators: Nes...</td>\n",
       "      <td>0.0</td>\n",
       "      <td>Beginner level</td>\n",
       "      <td>Flexible schedule</td>\n",
       "      <td>Not specified</td>\n",
       "      <td>Education, want, Resource, Causality</td>\n",
       "      <td>Course Orientation, Nested If/Else Part 1, Nes...</td>\n",
       "      <td>Beth Simon</td>\n",
       "      <td>University of California San Diego</td>\n",
       "      <td>Social Sciences</td>\n",
       "      <td>https://www.coursera.org/learn/block-programmi...</td>\n",
       "      <td>11.0</td>\n",
       "      <td>0</td>\n",
       "    </tr>\n",
       "    <tr>\n",
       "      <th>8367</th>\n",
       "      <td>Cómo combinar y analizar datos complejos</td>\n",
       "      <td>0.0</td>\n",
       "      <td>Not specified</td>\n",
       "      <td>Flexible schedule</td>\n",
       "      <td>Not specified</td>\n",
       "      <td>Not specified</td>\n",
       "      <td>Estimación básica, Modelos, Vinculación de reg...</td>\n",
       "      <td>Richard Valliant, Ph.D.</td>\n",
       "      <td>University of Maryland, College Park</td>\n",
       "      <td>Social Sciences</td>\n",
       "      <td>https://www.coursera.org/learn/data-collection...</td>\n",
       "      <td>9.0</td>\n",
       "      <td>0</td>\n",
       "    </tr>\n",
       "    <tr>\n",
       "      <th>8368</th>\n",
       "      <td>Architecting with Google Kubernetes Engine: Wo...</td>\n",
       "      <td>0.0</td>\n",
       "      <td>Intermediate level</td>\n",
       "      <td>Flexible schedule</td>\n",
       "      <td>Not specified</td>\n",
       "      <td>Not specified</td>\n",
       "      <td>Introdução ao curso, Operações do Kubernetes, ...</td>\n",
       "      <td>Google Cloud Training</td>\n",
       "      <td>Google Cloud</td>\n",
       "      <td>Social Sciences</td>\n",
       "      <td>https://www.coursera.org/learn/deploying-workl...</td>\n",
       "      <td>19.0</td>\n",
       "      <td>0</td>\n",
       "    </tr>\n",
       "    <tr>\n",
       "      <th>8369</th>\n",
       "      <td>Visualizing static networks with R</td>\n",
       "      <td>0.0</td>\n",
       "      <td>Intermediate level</td>\n",
       "      <td>Hands-on learning</td>\n",
       "      <td>Learn to preprocess raw data to create nodes a...</td>\n",
       "      <td>Network Analysis, igraph, R Programming, Graph...</td>\n",
       "      <td>Learn step-by-step</td>\n",
       "      <td>You (Lilian) Cheng</td>\n",
       "      <td>Coursera Project Network</td>\n",
       "      <td>Social Sciences</td>\n",
       "      <td>https://www.coursera.org/projects/visualizing-...</td>\n",
       "      <td>2.0</td>\n",
       "      <td>0</td>\n",
       "    </tr>\n",
       "  </tbody>\n",
       "</table>\n",
       "</div>"
      ],
      "text/plain": [
       "                                           Course Title  Rating  \\\n",
       "8360                     Felicidad y Políticas Públicas     0.0   \n",
       "8361  Teaching Impacts of Technology: Workplace of t...     0.0   \n",
       "8362      Teaching Impacts of Technology: Relationships     0.0   \n",
       "8363  Computational Thinking for K-12 Educators: Abs...     0.0   \n",
       "8364  L’engagement efficace de la société civile dan...     0.0   \n",
       "8365  Architecting with Google Kubernetes Engine: Pr...     4.9   \n",
       "8366  Computational Thinking for K-12 Educators: Nes...     0.0   \n",
       "8367           Cómo combinar y analizar datos complejos     0.0   \n",
       "8368  Architecting with Google Kubernetes Engine: Wo...     0.0   \n",
       "8369                 Visualizing static networks with R     0.0   \n",
       "\n",
       "                   Level           Schedule  \\\n",
       "8360      Beginner level  Flexible schedule   \n",
       "8361      Beginner level  Flexible schedule   \n",
       "8362      Beginner level  Flexible schedule   \n",
       "8363      Beginner level  Flexible schedule   \n",
       "8364  Intermediate level  Flexible schedule   \n",
       "8365  Intermediate level  Flexible schedule   \n",
       "8366      Beginner level  Flexible schedule   \n",
       "8367       Not specified  Flexible schedule   \n",
       "8368  Intermediate level  Flexible schedule   \n",
       "8369  Intermediate level  Hands-on learning   \n",
       "\n",
       "                                    What you will learn  \\\n",
       "8360  Conocer las características de los conceptos d...   \n",
       "8361                                      Not specified   \n",
       "8362                                      Not specified   \n",
       "8363                                      Not specified   \n",
       "8364                                      Not specified   \n",
       "8365                                      Not specified   \n",
       "8366                                      Not specified   \n",
       "8367                                      Not specified   \n",
       "8368                                      Not specified   \n",
       "8369  Learn to preprocess raw data to create nodes a...   \n",
       "\n",
       "                                             Skill gain  \\\n",
       "8360  Democracia, Ciudadanía, Políticas públicas, Fe...   \n",
       "8361                                      Not specified   \n",
       "8362                                      Not specified   \n",
       "8363                      Education, want, belief, aunt   \n",
       "8364                                      Not specified   \n",
       "8365                                      Not specified   \n",
       "8366               Education, want, Resource, Causality   \n",
       "8367                                      Not specified   \n",
       "8368                                      Not specified   \n",
       "8369  Network Analysis, igraph, R Programming, Graph...   \n",
       "\n",
       "                                                Modules  \\\n",
       "8360  Explorando los conceptos de felicidad y políti...   \n",
       "8361  Course Orientation, Getting a Job in New Ways,...   \n",
       "8362  Course Orientation, Keeping Connected in a Glo...   \n",
       "8363  Course Orientation, Abstractions Part 1, Abstr...   \n",
       "8364  Module 1 : Introduction à un engagement effica...   \n",
       "8365  Introducción al curso, Control de acceso y seg...   \n",
       "8366  Course Orientation, Nested If/Else Part 1, Nes...   \n",
       "8367  Estimación básica, Modelos, Vinculación de reg...   \n",
       "8368  Introdução ao curso, Operações do Kubernetes, ...   \n",
       "8369                                 Learn step-by-step   \n",
       "\n",
       "                   Instructor                            Offered By  \\\n",
       "8360           Graciela Tonon                Universidad de Palermo   \n",
       "8361               Beth Simon    University of California San Diego   \n",
       "8362               Beth Simon    University of California San Diego   \n",
       "8363               Beth Simon    University of California San Diego   \n",
       "8364            Sanne Huesken          Erasmus University Rotterdam   \n",
       "8365    Google Cloud Training                          Google Cloud   \n",
       "8366               Beth Simon    University of California San Diego   \n",
       "8367  Richard Valliant, Ph.D.  University of Maryland, College Park   \n",
       "8368    Google Cloud Training                          Google Cloud   \n",
       "8369       You (Lilian) Cheng              Coursera Project Network   \n",
       "\n",
       "              Keyword                                         Course Url  \\\n",
       "8360  Social Sciences  https://www.coursera.org/learn/felicidad-y-pol...   \n",
       "8361  Social Sciences  https://www.coursera.org/learn/teach-impacts-t...   \n",
       "8362  Social Sciences  https://www.coursera.org/learn/teach-impacts-t...   \n",
       "8363  Social Sciences  https://www.coursera.org/learn/block-programmi...   \n",
       "8364  Social Sciences  https://www.coursera.org/learn/engagement-effi...   \n",
       "8365  Social Sciences  https://www.coursera.org/learn/deploying-secur...   \n",
       "8366  Social Sciences  https://www.coursera.org/learn/block-programmi...   \n",
       "8367  Social Sciences  https://www.coursera.org/learn/data-collection...   \n",
       "8368  Social Sciences  https://www.coursera.org/learn/deploying-workl...   \n",
       "8369  Social Sciences  https://www.coursera.org/projects/visualizing-...   \n",
       "\n",
       "      Duration to complete (Approx.)  Number of Review  \n",
       "8360                            13.0                 0  \n",
       "8361                            12.0                 0  \n",
       "8362                            10.0                 0  \n",
       "8363                             9.0                 0  \n",
       "8364                            13.0                 0  \n",
       "8365                            14.0                30  \n",
       "8366                            11.0                 0  \n",
       "8367                             9.0                 0  \n",
       "8368                            19.0                 0  \n",
       "8369                             2.0                 0  "
      ]
     },
     "execution_count": 9,
     "metadata": {},
     "output_type": "execute_result"
    }
   ],
   "source": [
    "# Display the last few rows of the dataset\n",
    "df.tail(10)"
   ]
  },
  {
   "cell_type": "code",
   "execution_count": 10,
   "id": "f89f3728",
   "metadata": {
    "colab": {
     "base_uri": "https://localhost:8080/",
     "height": 300
    },
    "id": "f89f3728",
    "outputId": "6bae4359-2c54-47e2-b23d-205a126bcb80"
   },
   "outputs": [
    {
     "data": {
      "text/html": [
       "<div>\n",
       "<style scoped>\n",
       "    .dataframe tbody tr th:only-of-type {\n",
       "        vertical-align: middle;\n",
       "    }\n",
       "\n",
       "    .dataframe tbody tr th {\n",
       "        vertical-align: top;\n",
       "    }\n",
       "\n",
       "    .dataframe thead th {\n",
       "        text-align: right;\n",
       "    }\n",
       "</style>\n",
       "<table border=\"1\" class=\"dataframe\">\n",
       "  <thead>\n",
       "    <tr style=\"text-align: right;\">\n",
       "      <th></th>\n",
       "      <th>Rating</th>\n",
       "      <th>Duration to complete (Approx.)</th>\n",
       "      <th>Number of Review</th>\n",
       "    </tr>\n",
       "  </thead>\n",
       "  <tbody>\n",
       "    <tr>\n",
       "      <th>count</th>\n",
       "      <td>8370.000000</td>\n",
       "      <td>8370.000000</td>\n",
       "      <td>8370.000000</td>\n",
       "    </tr>\n",
       "    <tr>\n",
       "      <th>mean</th>\n",
       "      <td>4.005974</td>\n",
       "      <td>29.245968</td>\n",
       "      <td>2044.256631</td>\n",
       "    </tr>\n",
       "    <tr>\n",
       "      <th>std</th>\n",
       "      <td>1.623430</td>\n",
       "      <td>39.899608</td>\n",
       "      <td>10265.366839</td>\n",
       "    </tr>\n",
       "    <tr>\n",
       "      <th>min</th>\n",
       "      <td>0.000000</td>\n",
       "      <td>1.000000</td>\n",
       "      <td>0.000000</td>\n",
       "    </tr>\n",
       "    <tr>\n",
       "      <th>25%</th>\n",
       "      <td>4.500000</td>\n",
       "      <td>10.000000</td>\n",
       "      <td>32.000000</td>\n",
       "    </tr>\n",
       "    <tr>\n",
       "      <th>50%</th>\n",
       "      <td>4.700000</td>\n",
       "      <td>16.000000</td>\n",
       "      <td>213.000000</td>\n",
       "    </tr>\n",
       "    <tr>\n",
       "      <th>75%</th>\n",
       "      <td>4.800000</td>\n",
       "      <td>32.000000</td>\n",
       "      <td>1025.000000</td>\n",
       "    </tr>\n",
       "    <tr>\n",
       "      <th>max</th>\n",
       "      <td>5.000000</td>\n",
       "      <td>480.000000</td>\n",
       "      <td>225830.000000</td>\n",
       "    </tr>\n",
       "  </tbody>\n",
       "</table>\n",
       "</div>"
      ],
      "text/plain": [
       "            Rating  Duration to complete (Approx.)  Number of Review\n",
       "count  8370.000000                     8370.000000       8370.000000\n",
       "mean      4.005974                       29.245968       2044.256631\n",
       "std       1.623430                       39.899608      10265.366839\n",
       "min       0.000000                        1.000000          0.000000\n",
       "25%       4.500000                       10.000000         32.000000\n",
       "50%       4.700000                       16.000000        213.000000\n",
       "75%       4.800000                       32.000000       1025.000000\n",
       "max       5.000000                      480.000000     225830.000000"
      ]
     },
     "execution_count": 10,
     "metadata": {},
     "output_type": "execute_result"
    }
   ],
   "source": [
    "# Summary statistics\n",
    "df.describe()"
   ]
  },
  {
   "cell_type": "code",
   "execution_count": 11,
   "id": "a523ef03",
   "metadata": {
    "colab": {
     "base_uri": "https://localhost:8080/"
    },
    "id": "a523ef03",
    "outputId": "cb3da339-686c-4449-e100-7b2b7d88cf39"
   },
   "outputs": [
    {
     "name": "stdout",
     "output_type": "stream",
     "text": [
      "<class 'pandas.core.frame.DataFrame'>\n",
      "RangeIndex: 8370 entries, 0 to 8369\n",
      "Data columns (total 13 columns):\n",
      " #   Column                          Non-Null Count  Dtype  \n",
      "---  ------                          --------------  -----  \n",
      " 0   Course Title                    8370 non-null   object \n",
      " 1   Rating                          8370 non-null   float64\n",
      " 2   Level                           8370 non-null   object \n",
      " 3   Schedule                        8370 non-null   object \n",
      " 4   What you will learn             8370 non-null   object \n",
      " 5   Skill gain                      8370 non-null   object \n",
      " 6   Modules                         8337 non-null   object \n",
      " 7   Instructor                      8282 non-null   object \n",
      " 8   Offered By                      8370 non-null   object \n",
      " 9   Keyword                         8370 non-null   object \n",
      " 10  Course Url                      8370 non-null   object \n",
      " 11  Duration to complete (Approx.)  8370 non-null   float64\n",
      " 12  Number of Review                8370 non-null   int64  \n",
      "dtypes: float64(2), int64(1), object(10)\n",
      "memory usage: 850.2+ KB\n"
     ]
    }
   ],
   "source": [
    "#display data types\n",
    "df.info()"
   ]
  },
  {
   "cell_type": "code",
   "execution_count": 12,
   "id": "cb6356d0",
   "metadata": {
    "colab": {
     "base_uri": "https://localhost:8080/"
    },
    "id": "cb6356d0",
    "outputId": "cdad58aa-0e4f-4795-a792-6a92c49cedb0"
   },
   "outputs": [
    {
     "name": "stdout",
     "output_type": "stream",
     "text": [
      "Dimensions of the dataset: (8370, 13)\n"
     ]
    }
   ],
   "source": [
    "# Check the dimensions of the dataset\n",
    "print(\"Dimensions of the dataset:\", df.shape)"
   ]
  },
  {
   "cell_type": "code",
   "execution_count": 13,
   "id": "f36b4bd1",
   "metadata": {
    "colab": {
     "base_uri": "https://localhost:8080/"
    },
    "id": "f36b4bd1",
    "outputId": "d3a9a20d-9d83-4299-e7b6-0cbb97e9384b"
   },
   "outputs": [
    {
     "name": "stdout",
     "output_type": "stream",
     "text": [
      "Missing values:\n",
      " Course Title                       0\n",
      "Rating                             0\n",
      "Level                              0\n",
      "Schedule                           0\n",
      "What you will learn                0\n",
      "Skill gain                         0\n",
      "Modules                           33\n",
      "Instructor                        88\n",
      "Offered By                         0\n",
      "Keyword                            0\n",
      "Course Url                         0\n",
      "Duration to complete (Approx.)     0\n",
      "Number of Review                   0\n",
      "dtype: int64\n"
     ]
    }
   ],
   "source": [
    "# Check for missing values\n",
    "print(\"Missing values:\\n\", df.isnull().sum())\n"
   ]
  },
  {
   "cell_type": "code",
   "execution_count": 14,
   "id": "40eade3a",
   "metadata": {
    "colab": {
     "base_uri": "https://localhost:8080/",
     "height": 564
    },
    "id": "40eade3a",
    "outputId": "6212b098-03a6-42d1-a991-04cdb8515705"
   },
   "outputs": [
    {
     "data": {
      "image/png": "[encoded data removed]",
      "text/plain": [
       "<Figure size 576x432 with 1 Axes>"
      ]
     },
     "metadata": {
      "needs_background": "light"
     },
     "output_type": "display_data"
    }
   ],
   "source": [
    "# Rating distribution\n",
    "plt.figure(figsize=(8, 6))\n",
    "sns.histplot(df['Rating'], bins=20, kde=True, color='skyblue')\n",
    "plt.title('Distribution of Ratings')\n",
    "plt.xlabel('Rating')\n",
    "plt.ylabel('Frequency')\n",
    "plt.show()"
   ]
  },
  {
   "cell_type": "code",
   "execution_count": 15,
   "id": "ba2bf4b3",
   "metadata": {
    "colab": {
     "base_uri": "https://localhost:8080/",
     "height": 564
    },
    "id": "ba2bf4b3",
    "outputId": "c948a62b-ce0b-4829-a8c2-4e41ebc236e0"
   },
   "outputs": [
    {
     "data": {
      "image/png": "[encoded data removed]",
      "text/plain": [
       "<Figure size 576x432 with 1 Axes>"
      ]
     },
     "metadata": {
      "needs_background": "light"
     },
     "output_type": "display_data"
    }
   ],
   "source": [
    "# Level analysis\n",
    "plt.figure(figsize=(8, 6))\n",
    "sns.countplot(data=df, x='Level', palette='Set2')\n",
    "plt.title('Distribution of Course Levels')\n",
    "plt.xlabel('Level')\n",
    "plt.ylabel('Count')\n",
    "plt.show()"
   ]
  },
  {
   "cell_type": "code",
   "execution_count": 16,
   "id": "4280f93c",
   "metadata": {
    "colab": {
     "base_uri": "https://localhost:8080/",
     "height": 564
    },
    "id": "4280f93c",
    "outputId": "8ceddc52-e998-41d2-d5a0-876236081720"
   },
   "outputs": [
    {
     "data": {
      "image/png": "[encoded data removed]",
      "text/plain": [
       "<Figure size 576x432 with 1 Axes>"
      ]
     },
     "metadata": {
      "needs_background": "light"
     },
     "output_type": "display_data"
    }
   ],
   "source": [
    "# Schedule analysis\n",
    "plt.figure(figsize=(8, 6))\n",
    "sns.countplot(data=df, x='Schedule', palette='Set3')\n",
    "plt.title('Distribution of Course Schedules')\n",
    "plt.xlabel('Schedule')\n",
    "plt.ylabel('Count')\n",
    "plt.show()"
   ]
  },
  {
   "cell_type": "code",
   "execution_count": 17,
   "id": "295d88cf",
   "metadata": {
    "colab": {
     "base_uri": "https://localhost:8080/",
     "height": 564
    },
    "id": "295d88cf",
    "outputId": "1191dec1-4859-4320-9a25-74f28230a576"
   },
   "outputs": [
    {
     "data": {
      "image/png": "[encoded data removed]",
      "text/plain": [
       "<Figure size 576x432 with 1 Axes>"
      ]
     },
     "metadata": {
      "needs_background": "light"
     },
     "output_type": "display_data"
    }
   ],
   "source": [
    "# Duration analysis\n",
    "plt.figure(figsize=(8, 6))\n",
    "sns.histplot(df['Duration to complete (Approx.)'], bins=20, kde=True, color='lightgreen')\n",
    "plt.title('Distribution of Course Durations')\n",
    "plt.xlabel('Duration(Approx Hrs.)')\n",
    "plt.ylabel('Frequency')\n",
    "plt.show()"
   ]
  },
  {
   "cell_type": "code",
   "execution_count": 18,
   "id": "e0571a3c",
   "metadata": {
    "colab": {
     "base_uri": "https://localhost:8080/",
     "height": 373
    },
    "id": "e0571a3c",
    "outputId": "8aa0d016-86ec-487c-aff4-ff7a39bdaf17"
   },
   "outputs": [
    {
     "data": {
      "image/png": "[encoded data removed]",
      "text/plain": [
       "<Figure size 576x432 with 2 Axes>"
      ]
     },
     "metadata": {
      "needs_background": "light"
     },
     "output_type": "display_data"
    }
   ],
   "source": [
    "# Correlation analysis\n",
    "plt.figure(figsize=(8, 6))\n",
    "sns.heatmap(df.corr(), annot=True, cmap='coolwarm', fmt=\".2f\")\n",
    "plt.title('Correlation Matrix')\n",
    "plt.show()"
   ]
  },
  {
   "cell_type": "code",
   "execution_count": 19,
   "id": "8e3c0842",
   "metadata": {
    "colab": {
     "base_uri": "https://localhost:8080/",
     "height": 564
    },
    "id": "8e3c0842",
    "outputId": "18046e1d-9e79-427d-b551-42d6cd1445de"
   },
   "outputs": [
    {
     "data": {
      "image/png": "[encoded data removed]",
      "text/plain": [
       "<Figure size 720x432 with 1 Axes>"
      ]
     },
     "metadata": {
      "needs_background": "light"
     },
     "output_type": "display_data"
    }
   ],
   "source": [
    "#Rating analysis\n",
    "plt.figure(figsize=(10, 6))\n",
    "sns.boxplot(data=df, x='Level', y='Rating', palette='Set1')\n",
    "plt.title('Rating Distribution by Course Level')\n",
    "plt.xlabel('Level')\n",
    "plt.ylabel('Rating')\n",
    "plt.show()\n"
   ]
  },
  {
   "cell_type": "code",
   "execution_count": 20,
   "id": "4812c24a",
   "metadata": {
    "colab": {
     "base_uri": "https://localhost:8080/",
     "height": 564
    },
    "id": "4812c24a",
    "outputId": "aa205acd-6a08-457b-9265-cfbb9576add4"
   },
   "outputs": [
    {
     "data": {
      "image/png": "[encoded data removed]",
      "text/plain": [
       "<Figure size 720x432 with 1 Axes>"
      ]
     },
     "metadata": {
      "needs_background": "light"
     },
     "output_type": "display_data"
    }
   ],
   "source": [
    "#Rating Distribution by course schedule\n",
    "plt.figure(figsize=(10, 6))\n",
    "sns.boxplot(data=df, x='Schedule', y='Rating', palette='Set2')\n",
    "plt.title('Rating Distribution by Course Schedule')\n",
    "plt.xlabel('Schedule')\n",
    "plt.ylabel('Rating')\n",
    "plt.show()\n"
   ]
  },
  {
   "cell_type": "code",
   "execution_count": 21,
   "id": "d0cf808c",
   "metadata": {
    "colab": {
     "base_uri": "https://localhost:8080/",
     "height": 564
    },
    "id": "d0cf808c",
    "outputId": "581e6b54-605e-4696-b1e4-4213d82984ed"
   },
   "outputs": [
    {
     "data": {
      "image/png": "[encoded data removed]",
      "text/plain": [
       "<Figure size 720x432 with 1 Axes>"
      ]
     },
     "metadata": {
      "needs_background": "light"
     },
     "output_type": "display_data"
    }
   ],
   "source": [
    "#Top Institutions Offering Courses: Identify the institutions that offer the most courses.\n",
    "\n",
    "top_institutions = df['Offered By'].value_counts().head(10)\n",
    "plt.figure(figsize=(10, 6))\n",
    "sns.barplot(x=top_institutions.values, y=top_institutions.index, palette='viridis')\n",
    "plt.title('Top 10 Institutions Offering Courses')\n",
    "plt.xlabel('Number of Courses')\n",
    "plt.ylabel('Institution')\n",
    "plt.show()\n"
   ]
  },
  {
   "cell_type": "code",
   "execution_count": 22,
   "id": "74024867",
   "metadata": {
    "colab": {
     "base_uri": "https://localhost:8080/"
    },
    "id": "74024867",
    "outputId": "e3100a19-8f9c-4df2-efe1-c5f6251f9325"
   },
   "outputs": [
    {
     "data": {
      "text/plain": [
       "Beginner level        4871\n",
       "Intermediate level    2131\n",
       "Not specified         1106\n",
       "Advanced level         262\n",
       "Name: Level, dtype: int64"
      ]
     },
     "execution_count": 22,
     "metadata": {},
     "output_type": "execute_result"
    }
   ],
   "source": [
    "df['Level'].value_counts()"
   ]
  },
  {
   "cell_type": "code",
   "execution_count": 23,
   "id": "a3122b86",
   "metadata": {
    "colab": {
     "base_uri": "https://localhost:8080/"
    },
    "id": "a3122b86",
    "outputId": "0871348b-f2bb-498d-b4b4-db1f89de0da4"
   },
   "outputs": [
    {
     "data": {
      "text/plain": [
       "4.8    1931\n",
       "4.7    1858\n",
       "0.0    1163\n",
       "4.6    1099\n",
       "4.9     708\n",
       "4.5     651\n",
       "4.4     316\n",
       "4.3     191\n",
       "4.2     131\n",
       "4.1      77\n",
       "5.0      68\n",
       "4.0      40\n",
       "3.9      39\n",
       "3.8      26\n",
       "3.7      14\n",
       "3.3      13\n",
       "3.4      11\n",
       "3.6      10\n",
       "3.5       8\n",
       "3.1       7\n",
       "3.2       6\n",
       "3.0       3\n",
       "Name: Rating, dtype: int64"
      ]
     },
     "execution_count": 23,
     "metadata": {},
     "output_type": "execute_result"
    }
   ],
   "source": [
    "df['Rating'].value_counts()"
   ]
  },
  {
   "cell_type": "code",
   "execution_count": 24,
   "id": "f94bdc78",
   "metadata": {
    "colab": {
     "base_uri": "https://localhost:8080/"
    },
    "id": "f94bdc78",
    "outputId": "27c16cf1-411d-4a27-e2ef-5b1846e8de3b"
   },
   "outputs": [
    {
     "data": {
      "text/plain": [
       "University of Colorado Boulder                                     408\n",
       "Google                                                             307\n",
       "University of Michigan                                             294\n",
       "IBM                                                                289\n",
       "Coursera Project Network                                           279\n",
       "                                                                  ... \n",
       "EDHEC Business School, Société Générale                              1\n",
       "École des Ponts ParisTech, BCG                                       1\n",
       "Talend                                                               1\n",
       "University of California, Irvine, Tecnológico de Monterrey           1\n",
       "University of Arizona, University of Florida, Drexel University      1\n",
       "Name: Offered By, Length: 395, dtype: int64"
      ]
     },
     "execution_count": 24,
     "metadata": {},
     "output_type": "execute_result"
    }
   ],
   "source": [
    "df['Offered By'].value_counts()"
   ]
  },
  {
   "cell_type": "code",
   "execution_count": 25,
   "id": "77d516ea",
   "metadata": {
    "colab": {
     "base_uri": "https://localhost:8080/"
    },
    "id": "77d516ea",
    "outputId": "37df31e9-034c-41e7-c502-0a3da274ba8d"
   },
   "outputs": [
    {
     "data": {
      "text/plain": [
       "0                                       Fashion as Design\n",
       "1                                  Modern American Poetry\n",
       "2                               Pixel Art for Video Games\n",
       "3         Distribución digital de la música independiente\n",
       "4       The Blues: Understanding and Performing an Ame...\n",
       "                              ...                        \n",
       "8365    Architecting with Google Kubernetes Engine: Pr...\n",
       "8366    Computational Thinking for K-12 Educators: Nes...\n",
       "8367             Cómo combinar y analizar datos complejos\n",
       "8368    Architecting with Google Kubernetes Engine: Wo...\n",
       "8369                   Visualizing static networks with R\n",
       "Name: Course Title, Length: 8370, dtype: object"
      ]
     },
     "execution_count": 25,
     "metadata": {},
     "output_type": "execute_result"
    }
   ],
   "source": [
    "df['Course Title']"
   ]
  },
  {
   "cell_type": "markdown",
   "id": "9c9e06ee",
   "metadata": {
    "id": "9c9e06ee"
   },
   "source": [
    "# Required Columns for System\n",
    "Important columns to be used in recommendation system :\n",
    "\n",
    "Course Title : Names of the courses\n",
    "\n",
    "What you will learn : Similar courses may have similar course description\n",
    "\n",
    "Skill gain : Users may want to see courses based on same skills\n",
    "\n",
    "Level : Similar courses as per difficulty level\n",
    "\n",
    "Keyword : keywords or tags associated with the course"
   ]
  },
  {
   "cell_type": "markdown",
   "id": "b5983663",
   "metadata": {
    "id": "b5983663"
   },
   "source": [
    "# Columns not used for the recommendation system\n",
    "Rating : Numerical Column; Ratings can sometimes become a biased factor and distribution is not even\n",
    "\n",
    "Offered By : Same university might offer multiple courses in different domains which the user might not want to see\n",
    "\n",
    "Course Url : No significance in the recommendation system"
   ]
  },
  {
   "cell_type": "code",
   "execution_count": 26,
   "id": "0zIHkyTgpexT",
   "metadata": {
    "colab": {
     "base_uri": "https://localhost:8080/",
     "height": 199
    },
    "id": "0zIHkyTgpexT",
    "outputId": "4fb8209d-dc73-4f4f-e694-b7df07edb73f"
   },
   "outputs": [
    {
     "data": {
      "text/html": [
       "<div>\n",
       "<style scoped>\n",
       "    .dataframe tbody tr th:only-of-type {\n",
       "        vertical-align: middle;\n",
       "    }\n",
       "\n",
       "    .dataframe tbody tr th {\n",
       "        vertical-align: top;\n",
       "    }\n",
       "\n",
       "    .dataframe thead th {\n",
       "        text-align: right;\n",
       "    }\n",
       "</style>\n",
       "<table border=\"1\" class=\"dataframe\">\n",
       "  <thead>\n",
       "    <tr style=\"text-align: right;\">\n",
       "      <th></th>\n",
       "      <th>Course Title</th>\n",
       "      <th>Rating</th>\n",
       "      <th>Level</th>\n",
       "      <th>Schedule</th>\n",
       "      <th>What you will learn</th>\n",
       "      <th>Skill gain</th>\n",
       "      <th>Modules</th>\n",
       "      <th>Instructor</th>\n",
       "      <th>Offered By</th>\n",
       "      <th>Keyword</th>\n",
       "      <th>Course Url</th>\n",
       "      <th>Duration to complete (Approx.)</th>\n",
       "      <th>Number of Review</th>\n",
       "    </tr>\n",
       "  </thead>\n",
       "  <tbody>\n",
       "    <tr>\n",
       "      <th>0</th>\n",
       "      <td>Fashion as Design</td>\n",
       "      <td>4.8</td>\n",
       "      <td>Beginner level</td>\n",
       "      <td>Flexible schedule</td>\n",
       "      <td>Not specified</td>\n",
       "      <td>Art History, Art, History, Creativity</td>\n",
       "      <td>Introduction, Heroes, Silhouettes, Coutures, L...</td>\n",
       "      <td>Anna Burckhardt, Paola Antonelli, Michelle Mil...</td>\n",
       "      <td>The Museum of Modern Art</td>\n",
       "      <td>Arts and Humanities</td>\n",
       "      <td>https://www.coursera.org/learn/fashion-design</td>\n",
       "      <td>20.0</td>\n",
       "      <td>2813</td>\n",
       "    </tr>\n",
       "    <tr>\n",
       "      <th>1</th>\n",
       "      <td>Modern American Poetry</td>\n",
       "      <td>4.4</td>\n",
       "      <td>Beginner level</td>\n",
       "      <td>Flexible schedule</td>\n",
       "      <td>Not specified</td>\n",
       "      <td>Not specified</td>\n",
       "      <td>Orientation, Module 1, Module 2, Module 3, Mod...</td>\n",
       "      <td>Cary Nelson</td>\n",
       "      <td>University of Illinois at Urbana-Champaign</td>\n",
       "      <td>Arts and Humanities</td>\n",
       "      <td>https://www.coursera.org/learn/modern-american...</td>\n",
       "      <td>34.0</td>\n",
       "      <td>100</td>\n",
       "    </tr>\n",
       "  </tbody>\n",
       "</table>\n",
       "</div>"
      ],
      "text/plain": [
       "             Course Title  Rating           Level           Schedule  \\\n",
       "0       Fashion as Design     4.8  Beginner level  Flexible schedule   \n",
       "1  Modern American Poetry     4.4  Beginner level  Flexible schedule   \n",
       "\n",
       "  What you will learn                             Skill gain  \\\n",
       "0       Not specified  Art History, Art, History, Creativity   \n",
       "1       Not specified                          Not specified   \n",
       "\n",
       "                                             Modules  \\\n",
       "0  Introduction, Heroes, Silhouettes, Coutures, L...   \n",
       "1  Orientation, Module 1, Module 2, Module 3, Mod...   \n",
       "\n",
       "                                          Instructor  \\\n",
       "0  Anna Burckhardt, Paola Antonelli, Michelle Mil...   \n",
       "1                                        Cary Nelson   \n",
       "\n",
       "                                   Offered By              Keyword  \\\n",
       "0                    The Museum of Modern Art  Arts and Humanities   \n",
       "1  University of Illinois at Urbana-Champaign  Arts and Humanities   \n",
       "\n",
       "                                          Course Url  \\\n",
       "0      https://www.coursera.org/learn/fashion-design   \n",
       "1  https://www.coursera.org/learn/modern-american...   \n",
       "\n",
       "   Duration to complete (Approx.)  Number of Review  \n",
       "0                            20.0              2813  \n",
       "1                            34.0               100  "
      ]
     },
     "execution_count": 26,
     "metadata": {},
     "output_type": "execute_result"
    }
   ],
   "source": [
    "df.head(2)"
   ]
  },
  {
   "cell_type": "code",
   "execution_count": 27,
   "id": "97217d90",
   "metadata": {
    "id": "97217d90"
   },
   "outputs": [],
   "source": [
    "df = df[['Course Title','Level','What you will learn','Skill gain','Keyword']]"
   ]
  },
  {
   "cell_type": "code",
   "execution_count": 28,
   "id": "41b50c1c",
   "metadata": {
    "colab": {
     "base_uri": "https://localhost:8080/",
     "height": 206
    },
    "id": "41b50c1c",
    "outputId": "e6aedef2-3e26-4ea1-d7da-bbdbf406a9f1"
   },
   "outputs": [
    {
     "data": {
      "text/html": [
       "<div>\n",
       "<style scoped>\n",
       "    .dataframe tbody tr th:only-of-type {\n",
       "        vertical-align: middle;\n",
       "    }\n",
       "\n",
       "    .dataframe tbody tr th {\n",
       "        vertical-align: top;\n",
       "    }\n",
       "\n",
       "    .dataframe thead th {\n",
       "        text-align: right;\n",
       "    }\n",
       "</style>\n",
       "<table border=\"1\" class=\"dataframe\">\n",
       "  <thead>\n",
       "    <tr style=\"text-align: right;\">\n",
       "      <th></th>\n",
       "      <th>Course Title</th>\n",
       "      <th>Level</th>\n",
       "      <th>What you will learn</th>\n",
       "      <th>Skill gain</th>\n",
       "      <th>Keyword</th>\n",
       "    </tr>\n",
       "  </thead>\n",
       "  <tbody>\n",
       "    <tr>\n",
       "      <th>0</th>\n",
       "      <td>Fashion as Design</td>\n",
       "      <td>Beginner level</td>\n",
       "      <td>Not specified</td>\n",
       "      <td>Art History, Art, History, Creativity</td>\n",
       "      <td>Arts and Humanities</td>\n",
       "    </tr>\n",
       "    <tr>\n",
       "      <th>1</th>\n",
       "      <td>Modern American Poetry</td>\n",
       "      <td>Beginner level</td>\n",
       "      <td>Not specified</td>\n",
       "      <td>Not specified</td>\n",
       "      <td>Arts and Humanities</td>\n",
       "    </tr>\n",
       "    <tr>\n",
       "      <th>2</th>\n",
       "      <td>Pixel Art for Video Games</td>\n",
       "      <td>Beginner level</td>\n",
       "      <td>Not specified</td>\n",
       "      <td>Not specified</td>\n",
       "      <td>Arts and Humanities</td>\n",
       "    </tr>\n",
       "    <tr>\n",
       "      <th>3</th>\n",
       "      <td>Distribución digital de la música independiente</td>\n",
       "      <td>Beginner level</td>\n",
       "      <td>Not specified</td>\n",
       "      <td>Not specified</td>\n",
       "      <td>Arts and Humanities</td>\n",
       "    </tr>\n",
       "    <tr>\n",
       "      <th>4</th>\n",
       "      <td>The Blues: Understanding and Performing an Ame...</td>\n",
       "      <td>Beginner level</td>\n",
       "      <td>Students will be able to describe the blues as...</td>\n",
       "      <td>Music, Chord, Jazz, Jazz Improvisation</td>\n",
       "      <td>Arts and Humanities</td>\n",
       "    </tr>\n",
       "  </tbody>\n",
       "</table>\n",
       "</div>"
      ],
      "text/plain": [
       "                                        Course Title           Level  \\\n",
       "0                                  Fashion as Design  Beginner level   \n",
       "1                             Modern American Poetry  Beginner level   \n",
       "2                          Pixel Art for Video Games  Beginner level   \n",
       "3    Distribución digital de la música independiente  Beginner level   \n",
       "4  The Blues: Understanding and Performing an Ame...  Beginner level   \n",
       "\n",
       "                                 What you will learn  \\\n",
       "0                                      Not specified   \n",
       "1                                      Not specified   \n",
       "2                                      Not specified   \n",
       "3                                      Not specified   \n",
       "4  Students will be able to describe the blues as...   \n",
       "\n",
       "                               Skill gain              Keyword  \n",
       "0   Art History, Art, History, Creativity  Arts and Humanities  \n",
       "1                           Not specified  Arts and Humanities  \n",
       "2                           Not specified  Arts and Humanities  \n",
       "3                           Not specified  Arts and Humanities  \n",
       "4  Music, Chord, Jazz, Jazz Improvisation  Arts and Humanities  "
      ]
     },
     "execution_count": 28,
     "metadata": {},
     "output_type": "execute_result"
    }
   ],
   "source": [
    "df.head(5)"
   ]
  },
  {
   "cell_type": "markdown",
   "id": "151a6cdc",
   "metadata": {
    "id": "151a6cdc"
   },
   "source": [
    "## 3. Data Pre-Processing\n",
    "An important part of the process is to pre-process the data into usable format for the recommendation system"
   ]
  },
  {
   "cell_type": "code",
   "execution_count": 29,
   "id": "dPJ3jcI7rsvG",
   "metadata": {
    "colab": {
     "base_uri": "https://localhost:8080/"
    },
    "id": "dPJ3jcI7rsvG",
    "outputId": "a73fda01-9b1c-477c-971e-dadde8698277"
   },
   "outputs": [
    {
     "name": "stdout",
     "output_type": "stream",
     "text": [
      "Index(['Course Title', 'Level', 'What you will learn', 'Skill gain',\n",
      "       'Keyword'],\n",
      "      dtype='object')\n"
     ]
    }
   ],
   "source": [
    "print(df.columns)"
   ]
  },
  {
   "cell_type": "code",
   "execution_count": 30,
   "id": "1e974890",
   "metadata": {
    "id": "1e974890"
   },
   "outputs": [],
   "source": [
    "# Removing spaces between the words and other characters using .loc accessor\n",
    "df.loc[:, 'Course Title'] = df['Course Title'].str.replace(' ',',')\n",
    "df.loc[:, 'Course Title'] = df['Course Title'].str.replace(',,',',')\n",
    "df.loc[:, 'Course Title'] = df['Course Title'].str.replace(':','')\n",
    "df.loc[:, 'What you will learn'] = df['What you will learn'].str.replace(' ',',')\n",
    "df.loc[:, 'What you will learn'] = df['What you will learn'].str.replace(',,',',')\n",
    "df.loc[:, 'What you will learn'] = df['What you will learn'].str.replace('_','')\n",
    "df.loc[:, 'What you will learn'] = df['What you will learn'].str.replace(':','')\n",
    "df.loc[:, 'What you will learn'] = df['What you will learn'].str.replace('(','')\n",
    "df.loc[:, 'What you will learn'] = df['What you will learn'].str.replace(')','')\n",
    "\n",
    "df.loc[:, 'Keyword'] = df['Keyword'].str.replace(' and ',',')\n",
    "\n"
   ]
  },
  {
   "cell_type": "code",
   "execution_count": 31,
   "id": "042256ce",
   "metadata": {
    "colab": {
     "base_uri": "https://localhost:8080/",
     "height": 206
    },
    "id": "042256ce",
    "outputId": "431440aa-34b3-4aa9-def0-2659fcf3b172"
   },
   "outputs": [
    {
     "data": {
      "text/html": [
       "<div>\n",
       "<style scoped>\n",
       "    .dataframe tbody tr th:only-of-type {\n",
       "        vertical-align: middle;\n",
       "    }\n",
       "\n",
       "    .dataframe tbody tr th {\n",
       "        vertical-align: top;\n",
       "    }\n",
       "\n",
       "    .dataframe thead th {\n",
       "        text-align: right;\n",
       "    }\n",
       "</style>\n",
       "<table border=\"1\" class=\"dataframe\">\n",
       "  <thead>\n",
       "    <tr style=\"text-align: right;\">\n",
       "      <th></th>\n",
       "      <th>Course Title</th>\n",
       "      <th>Level</th>\n",
       "      <th>What you will learn</th>\n",
       "      <th>Skill gain</th>\n",
       "      <th>Keyword</th>\n",
       "    </tr>\n",
       "  </thead>\n",
       "  <tbody>\n",
       "    <tr>\n",
       "      <th>0</th>\n",
       "      <td>Fashion,as,Design</td>\n",
       "      <td>Beginner level</td>\n",
       "      <td>Not,specified</td>\n",
       "      <td>Art History, Art, History, Creativity</td>\n",
       "      <td>Arts,Humanities</td>\n",
       "    </tr>\n",
       "    <tr>\n",
       "      <th>1</th>\n",
       "      <td>Modern,American,Poetry</td>\n",
       "      <td>Beginner level</td>\n",
       "      <td>Not,specified</td>\n",
       "      <td>Not specified</td>\n",
       "      <td>Arts,Humanities</td>\n",
       "    </tr>\n",
       "    <tr>\n",
       "      <th>2</th>\n",
       "      <td>Pixel,Art,for,Video,Games</td>\n",
       "      <td>Beginner level</td>\n",
       "      <td>Not,specified</td>\n",
       "      <td>Not specified</td>\n",
       "      <td>Arts,Humanities</td>\n",
       "    </tr>\n",
       "    <tr>\n",
       "      <th>3</th>\n",
       "      <td>Distribución,digital,de,la,música,independiente</td>\n",
       "      <td>Beginner level</td>\n",
       "      <td>Not,specified</td>\n",
       "      <td>Not specified</td>\n",
       "      <td>Arts,Humanities</td>\n",
       "    </tr>\n",
       "    <tr>\n",
       "      <th>4</th>\n",
       "      <td>The,Blues,Understanding,and,Performing,an,Amer...</td>\n",
       "      <td>Beginner level</td>\n",
       "      <td>Students,will,be,able,to,describe,the,blues,as...</td>\n",
       "      <td>Music, Chord, Jazz, Jazz Improvisation</td>\n",
       "      <td>Arts,Humanities</td>\n",
       "    </tr>\n",
       "  </tbody>\n",
       "</table>\n",
       "</div>"
      ],
      "text/plain": [
       "                                        Course Title           Level  \\\n",
       "0                                  Fashion,as,Design  Beginner level   \n",
       "1                             Modern,American,Poetry  Beginner level   \n",
       "2                          Pixel,Art,for,Video,Games  Beginner level   \n",
       "3    Distribución,digital,de,la,música,independiente  Beginner level   \n",
       "4  The,Blues,Understanding,and,Performing,an,Amer...  Beginner level   \n",
       "\n",
       "                                 What you will learn  \\\n",
       "0                                      Not,specified   \n",
       "1                                      Not,specified   \n",
       "2                                      Not,specified   \n",
       "3                                      Not,specified   \n",
       "4  Students,will,be,able,to,describe,the,blues,as...   \n",
       "\n",
       "                               Skill gain          Keyword  \n",
       "0   Art History, Art, History, Creativity  Arts,Humanities  \n",
       "1                           Not specified  Arts,Humanities  \n",
       "2                           Not specified  Arts,Humanities  \n",
       "3                           Not specified  Arts,Humanities  \n",
       "4  Music, Chord, Jazz, Jazz Improvisation  Arts,Humanities  "
      ]
     },
     "execution_count": 31,
     "metadata": {},
     "output_type": "execute_result"
    }
   ],
   "source": [
    "df.head(5)"
   ]
  },
  {
   "cell_type": "markdown",
   "id": "1b9e44d3",
   "metadata": {
    "id": "1b9e44d3"
   },
   "source": [
    "## 4. Tags Column\n",
    "The tags column is the combination of the following columns : Course Title + Level + What you will learn + Skill gain"
   ]
  },
  {
   "cell_type": "code",
   "execution_count": 32,
   "id": "c6b2e0c9",
   "metadata": {
    "id": "c6b2e0c9"
   },
   "outputs": [],
   "source": [
    "# Joining specified columns using comma separator\n",
    "df['tags'] = df.apply(lambda row: ','.join([str(row['Course Title']), str(row['Level']), str(row['What you will learn']), str(row['Skill gain']),str(row['Keyword'])]), axis=1)\n"
   ]
  },
  {
   "cell_type": "code",
   "execution_count": 33,
   "id": "42017eb6",
   "metadata": {
    "colab": {
     "base_uri": "https://localhost:8080/",
     "height": 206
    },
    "id": "42017eb6",
    "outputId": "9efe85e0-ee07-41b7-c92a-47a8d5b230a8"
   },
   "outputs": [
    {
     "data": {
      "text/html": [
       "<div>\n",
       "<style scoped>\n",
       "    .dataframe tbody tr th:only-of-type {\n",
       "        vertical-align: middle;\n",
       "    }\n",
       "\n",
       "    .dataframe tbody tr th {\n",
       "        vertical-align: top;\n",
       "    }\n",
       "\n",
       "    .dataframe thead th {\n",
       "        text-align: right;\n",
       "    }\n",
       "</style>\n",
       "<table border=\"1\" class=\"dataframe\">\n",
       "  <thead>\n",
       "    <tr style=\"text-align: right;\">\n",
       "      <th></th>\n",
       "      <th>Course Title</th>\n",
       "      <th>Level</th>\n",
       "      <th>What you will learn</th>\n",
       "      <th>Skill gain</th>\n",
       "      <th>Keyword</th>\n",
       "      <th>tags</th>\n",
       "    </tr>\n",
       "  </thead>\n",
       "  <tbody>\n",
       "    <tr>\n",
       "      <th>0</th>\n",
       "      <td>Fashion,as,Design</td>\n",
       "      <td>Beginner level</td>\n",
       "      <td>Not,specified</td>\n",
       "      <td>Art History, Art, History, Creativity</td>\n",
       "      <td>Arts,Humanities</td>\n",
       "      <td>Fashion,as,Design,Beginner level,Not,specified...</td>\n",
       "    </tr>\n",
       "    <tr>\n",
       "      <th>1</th>\n",
       "      <td>Modern,American,Poetry</td>\n",
       "      <td>Beginner level</td>\n",
       "      <td>Not,specified</td>\n",
       "      <td>Not specified</td>\n",
       "      <td>Arts,Humanities</td>\n",
       "      <td>Modern,American,Poetry,Beginner level,Not,spec...</td>\n",
       "    </tr>\n",
       "    <tr>\n",
       "      <th>2</th>\n",
       "      <td>Pixel,Art,for,Video,Games</td>\n",
       "      <td>Beginner level</td>\n",
       "      <td>Not,specified</td>\n",
       "      <td>Not specified</td>\n",
       "      <td>Arts,Humanities</td>\n",
       "      <td>Pixel,Art,for,Video,Games,Beginner level,Not,s...</td>\n",
       "    </tr>\n",
       "    <tr>\n",
       "      <th>3</th>\n",
       "      <td>Distribución,digital,de,la,música,independiente</td>\n",
       "      <td>Beginner level</td>\n",
       "      <td>Not,specified</td>\n",
       "      <td>Not specified</td>\n",
       "      <td>Arts,Humanities</td>\n",
       "      <td>Distribución,digital,de,la,música,independient...</td>\n",
       "    </tr>\n",
       "    <tr>\n",
       "      <th>4</th>\n",
       "      <td>The,Blues,Understanding,and,Performing,an,Amer...</td>\n",
       "      <td>Beginner level</td>\n",
       "      <td>Students,will,be,able,to,describe,the,blues,as...</td>\n",
       "      <td>Music, Chord, Jazz, Jazz Improvisation</td>\n",
       "      <td>Arts,Humanities</td>\n",
       "      <td>The,Blues,Understanding,and,Performing,an,Amer...</td>\n",
       "    </tr>\n",
       "  </tbody>\n",
       "</table>\n",
       "</div>"
      ],
      "text/plain": [
       "                                        Course Title           Level  \\\n",
       "0                                  Fashion,as,Design  Beginner level   \n",
       "1                             Modern,American,Poetry  Beginner level   \n",
       "2                          Pixel,Art,for,Video,Games  Beginner level   \n",
       "3    Distribución,digital,de,la,música,independiente  Beginner level   \n",
       "4  The,Blues,Understanding,and,Performing,an,Amer...  Beginner level   \n",
       "\n",
       "                                 What you will learn  \\\n",
       "0                                      Not,specified   \n",
       "1                                      Not,specified   \n",
       "2                                      Not,specified   \n",
       "3                                      Not,specified   \n",
       "4  Students,will,be,able,to,describe,the,blues,as...   \n",
       "\n",
       "                               Skill gain          Keyword  \\\n",
       "0   Art History, Art, History, Creativity  Arts,Humanities   \n",
       "1                           Not specified  Arts,Humanities   \n",
       "2                           Not specified  Arts,Humanities   \n",
       "3                           Not specified  Arts,Humanities   \n",
       "4  Music, Chord, Jazz, Jazz Improvisation  Arts,Humanities   \n",
       "\n",
       "                                                tags  \n",
       "0  Fashion,as,Design,Beginner level,Not,specified...  \n",
       "1  Modern,American,Poetry,Beginner level,Not,spec...  \n",
       "2  Pixel,Art,for,Video,Games,Beginner level,Not,s...  \n",
       "3  Distribución,digital,de,la,música,independient...  \n",
       "4  The,Blues,Understanding,and,Performing,an,Amer...  "
      ]
     },
     "execution_count": 33,
     "metadata": {},
     "output_type": "execute_result"
    }
   ],
   "source": [
    "df.head(5)"
   ]
  },
  {
   "cell_type": "code",
   "execution_count": 34,
   "id": "cff1ec00",
   "metadata": {
    "colab": {
     "base_uri": "https://localhost:8080/",
     "height": 35
    },
    "id": "cff1ec00",
    "outputId": "ba823b10-912a-4d95-bf72-9210748a57f5"
   },
   "outputs": [
    {
     "data": {
      "text/plain": [
       "'Modern,American,Poetry,Beginner level,Not,specified,Not specified,Arts,Humanities'"
      ]
     },
     "execution_count": 34,
     "metadata": {},
     "output_type": "execute_result"
    }
   ],
   "source": [
    "df['tags'].iloc[1]"
   ]
  },
  {
   "cell_type": "markdown",
   "id": "9b7e485c",
   "metadata": {
    "id": "9b7e485c"
   },
   "source": [
    "## 5. Dataframe to be used"
   ]
  },
  {
   "cell_type": "code",
   "execution_count": 35,
   "id": "34107562",
   "metadata": {
    "id": "34107562"
   },
   "outputs": [],
   "source": [
    "new_df = df[['Course Title','tags']]"
   ]
  },
  {
   "cell_type": "code",
   "execution_count": 36,
   "id": "253372c6",
   "metadata": {
    "colab": {
     "base_uri": "https://localhost:8080/",
     "height": 206
    },
    "id": "253372c6",
    "outputId": "f3d9232b-1939-4d46-f6a4-c9f94038ba80"
   },
   "outputs": [
    {
     "data": {
      "text/html": [
       "<div>\n",
       "<style scoped>\n",
       "    .dataframe tbody tr th:only-of-type {\n",
       "        vertical-align: middle;\n",
       "    }\n",
       "\n",
       "    .dataframe tbody tr th {\n",
       "        vertical-align: top;\n",
       "    }\n",
       "\n",
       "    .dataframe thead th {\n",
       "        text-align: right;\n",
       "    }\n",
       "</style>\n",
       "<table border=\"1\" class=\"dataframe\">\n",
       "  <thead>\n",
       "    <tr style=\"text-align: right;\">\n",
       "      <th></th>\n",
       "      <th>Course Title</th>\n",
       "      <th>tags</th>\n",
       "    </tr>\n",
       "  </thead>\n",
       "  <tbody>\n",
       "    <tr>\n",
       "      <th>0</th>\n",
       "      <td>Fashion,as,Design</td>\n",
       "      <td>Fashion,as,Design,Beginner level,Not,specified...</td>\n",
       "    </tr>\n",
       "    <tr>\n",
       "      <th>1</th>\n",
       "      <td>Modern,American,Poetry</td>\n",
       "      <td>Modern,American,Poetry,Beginner level,Not,spec...</td>\n",
       "    </tr>\n",
       "    <tr>\n",
       "      <th>2</th>\n",
       "      <td>Pixel,Art,for,Video,Games</td>\n",
       "      <td>Pixel,Art,for,Video,Games,Beginner level,Not,s...</td>\n",
       "    </tr>\n",
       "    <tr>\n",
       "      <th>3</th>\n",
       "      <td>Distribución,digital,de,la,música,independiente</td>\n",
       "      <td>Distribución,digital,de,la,música,independient...</td>\n",
       "    </tr>\n",
       "    <tr>\n",
       "      <th>4</th>\n",
       "      <td>The,Blues,Understanding,and,Performing,an,Amer...</td>\n",
       "      <td>The,Blues,Understanding,and,Performing,an,Amer...</td>\n",
       "    </tr>\n",
       "  </tbody>\n",
       "</table>\n",
       "</div>"
      ],
      "text/plain": [
       "                                        Course Title  \\\n",
       "0                                  Fashion,as,Design   \n",
       "1                             Modern,American,Poetry   \n",
       "2                          Pixel,Art,for,Video,Games   \n",
       "3    Distribución,digital,de,la,música,independiente   \n",
       "4  The,Blues,Understanding,and,Performing,an,Amer...   \n",
       "\n",
       "                                                tags  \n",
       "0  Fashion,as,Design,Beginner level,Not,specified...  \n",
       "1  Modern,American,Poetry,Beginner level,Not,spec...  \n",
       "2  Pixel,Art,for,Video,Games,Beginner level,Not,s...  \n",
       "3  Distribución,digital,de,la,música,independient...  \n",
       "4  The,Blues,Understanding,and,Performing,an,Amer...  "
      ]
     },
     "execution_count": 36,
     "metadata": {},
     "output_type": "execute_result"
    }
   ],
   "source": [
    "new_df.head(5)"
   ]
  },
  {
   "cell_type": "code",
   "execution_count": 37,
   "id": "a9ea36c0",
   "metadata": {
    "id": "a9ea36c0"
   },
   "outputs": [],
   "source": [
    "new_df = df[['Course Title','tags']]"
   ]
  },
  {
   "cell_type": "code",
   "execution_count": 38,
   "id": "6e64268f",
   "metadata": {
    "id": "6e64268f"
   },
   "outputs": [],
   "source": [
    "new_df['tags'] = df['tags'].str.replace(',',' ')"
   ]
  },
  {
   "cell_type": "code",
   "execution_count": 39,
   "id": "a25e77eb",
   "metadata": {
    "id": "a25e77eb"
   },
   "outputs": [],
   "source": [
    "new_df['Course Title'] = df['Course Title'].str.replace(',',' ')"
   ]
  },
  {
   "cell_type": "code",
   "execution_count": 40,
   "id": "b84d0120",
   "metadata": {
    "id": "b84d0120"
   },
   "outputs": [],
   "source": [
    "new_df.rename(columns = {'Course Title':'course_title'}, inplace = True)"
   ]
  },
  {
   "cell_type": "code",
   "execution_count": 41,
   "id": "7f6431e5",
   "metadata": {
    "id": "7f6431e5"
   },
   "outputs": [],
   "source": [
    "new_df['tags'] = df['tags'].apply(lambda x:x.lower()) #lower casing the tags column"
   ]
  },
  {
   "cell_type": "code",
   "execution_count": 42,
   "id": "16ed8432",
   "metadata": {
    "colab": {
     "base_uri": "https://localhost:8080/",
     "height": 206
    },
    "id": "16ed8432",
    "outputId": "43d6670e-602d-4155-8a6e-57166809703b"
   },
   "outputs": [
    {
     "data": {
      "text/html": [
       "<div>\n",
       "<style scoped>\n",
       "    .dataframe tbody tr th:only-of-type {\n",
       "        vertical-align: middle;\n",
       "    }\n",
       "\n",
       "    .dataframe tbody tr th {\n",
       "        vertical-align: top;\n",
       "    }\n",
       "\n",
       "    .dataframe thead th {\n",
       "        text-align: right;\n",
       "    }\n",
       "</style>\n",
       "<table border=\"1\" class=\"dataframe\">\n",
       "  <thead>\n",
       "    <tr style=\"text-align: right;\">\n",
       "      <th></th>\n",
       "      <th>course_title</th>\n",
       "      <th>tags</th>\n",
       "    </tr>\n",
       "  </thead>\n",
       "  <tbody>\n",
       "    <tr>\n",
       "      <th>0</th>\n",
       "      <td>Fashion as Design</td>\n",
       "      <td>fashion,as,design,beginner level,not,specified...</td>\n",
       "    </tr>\n",
       "    <tr>\n",
       "      <th>1</th>\n",
       "      <td>Modern American Poetry</td>\n",
       "      <td>modern,american,poetry,beginner level,not,spec...</td>\n",
       "    </tr>\n",
       "    <tr>\n",
       "      <th>2</th>\n",
       "      <td>Pixel Art for Video Games</td>\n",
       "      <td>pixel,art,for,video,games,beginner level,not,s...</td>\n",
       "    </tr>\n",
       "    <tr>\n",
       "      <th>3</th>\n",
       "      <td>Distribución digital de la música independiente</td>\n",
       "      <td>distribución,digital,de,la,música,independient...</td>\n",
       "    </tr>\n",
       "    <tr>\n",
       "      <th>4</th>\n",
       "      <td>The Blues Understanding and Performing an Amer...</td>\n",
       "      <td>the,blues,understanding,and,performing,an,amer...</td>\n",
       "    </tr>\n",
       "  </tbody>\n",
       "</table>\n",
       "</div>"
      ],
      "text/plain": [
       "                                        course_title  \\\n",
       "0                                  Fashion as Design   \n",
       "1                             Modern American Poetry   \n",
       "2                          Pixel Art for Video Games   \n",
       "3    Distribución digital de la música independiente   \n",
       "4  The Blues Understanding and Performing an Amer...   \n",
       "\n",
       "                                                tags  \n",
       "0  fashion,as,design,beginner level,not,specified...  \n",
       "1  modern,american,poetry,beginner level,not,spec...  \n",
       "2  pixel,art,for,video,games,beginner level,not,s...  \n",
       "3  distribución,digital,de,la,música,independient...  \n",
       "4  the,blues,understanding,and,performing,an,amer...  "
      ]
     },
     "execution_count": 42,
     "metadata": {},
     "output_type": "execute_result"
    }
   ],
   "source": [
    "new_df.head(5)"
   ]
  },
  {
   "cell_type": "code",
   "execution_count": 43,
   "id": "cda7e449",
   "metadata": {
    "colab": {
     "base_uri": "https://localhost:8080/"
    },
    "id": "cda7e449",
    "outputId": "926bc0c9-7b49-4aa2-ec6b-c0227baaa362"
   },
   "outputs": [
    {
     "data": {
      "text/plain": [
       "(8370, 2)"
      ]
     },
     "execution_count": 43,
     "metadata": {},
     "output_type": "execute_result"
    }
   ],
   "source": [
    "new_df.shape"
   ]
  },
  {
   "cell_type": "markdown",
   "id": "aca904da",
   "metadata": {
    "id": "aca904da"
   },
   "source": [
    "## 6. Text Vectorization"
   ]
  },
  {
   "cell_type": "code",
   "execution_count": 44,
   "id": "f63b3634",
   "metadata": {
    "id": "f63b3634"
   },
   "outputs": [],
   "source": [
    "from sklearn.feature_extraction.text import CountVectorizer"
   ]
  },
  {
   "cell_type": "code",
   "execution_count": 45,
   "id": "5732db81",
   "metadata": {
    "id": "5732db81"
   },
   "outputs": [],
   "source": [
    "cv = CountVectorizer(max_features=5000,stop_words='english')"
   ]
  },
  {
   "cell_type": "code",
   "execution_count": 46,
   "id": "7817b71d",
   "metadata": {
    "id": "7817b71d"
   },
   "outputs": [],
   "source": [
    "vectors = cv.fit_transform(new_df['tags']).toarray()"
   ]
  },
  {
   "cell_type": "markdown",
   "id": "651bbb43",
   "metadata": {
    "id": "651bbb43"
   },
   "source": [
    "## 7. Stemming Process"
   ]
  },
  {
   "cell_type": "code",
   "execution_count": 47,
   "id": "3284e83d",
   "metadata": {
    "id": "3284e83d"
   },
   "outputs": [],
   "source": [
    "import nltk #for stemming process"
   ]
  },
  {
   "cell_type": "code",
   "execution_count": 48,
   "id": "5c2b468e",
   "metadata": {
    "id": "5c2b468e"
   },
   "outputs": [],
   "source": [
    "from nltk.stem.porter import PorterStemmer\n",
    "ps = PorterStemmer()"
   ]
  },
  {
   "cell_type": "code",
   "execution_count": 49,
   "id": "4f49a39f",
   "metadata": {
    "id": "4f49a39f"
   },
   "outputs": [],
   "source": [
    "#defining the stemming function\n",
    "def stem(text):\n",
    "    y=[]\n",
    "\n",
    "    for i in text.split():\n",
    "        y.append(ps.stem(i))\n",
    "\n",
    "    return \" \".join(y)"
   ]
  },
  {
   "cell_type": "code",
   "execution_count": 50,
   "id": "d2917a3a",
   "metadata": {
    "id": "d2917a3a"
   },
   "outputs": [],
   "source": [
    "new_df['tags'] = new_df['tags'].apply(stem) #applying stemming on the tags column"
   ]
  },
  {
   "cell_type": "markdown",
   "id": "a5dc0b3b",
   "metadata": {
    "id": "a5dc0b3b"
   },
   "source": [
    "## 8. Similarity Measure"
   ]
  },
  {
   "cell_type": "code",
   "execution_count": 51,
   "id": "087af5d7",
   "metadata": {
    "id": "087af5d7"
   },
   "outputs": [],
   "source": [
    "from sklearn.metrics.pairwise import cosine_similarity"
   ]
  },
  {
   "cell_type": "code",
   "execution_count": 52,
   "id": "7d1f7ec1",
   "metadata": {
    "id": "7d1f7ec1"
   },
   "outputs": [],
   "source": [
    "similarity = cosine_similarity(vectors)\n",
    "#similarity"
   ]
  },
  {
   "cell_type": "markdown",
   "id": "1809fc58",
   "metadata": {
    "id": "1809fc58"
   },
   "source": [
    "## 9. Recommendation Function"
   ]
  },
  {
   "cell_type": "code",
   "execution_count": 53,
   "id": "3b17e310",
   "metadata": {
    "id": "3b17e310"
   },
   "outputs": [],
   "source": [
    "def recommend(course):\n",
    "    course_index = new_df[new_df['course_title'] == course].index[0]\n",
    "    distances = similarity[course_index]\n",
    "    course_list = sorted(list(enumerate(distances)),reverse=True, key=lambda x:x[1])[1:7]\n",
    "\n",
    "    for i in course_list:\n",
    "        print(new_df.iloc[i[0]].course_title)"
   ]
  },
  {
   "cell_type": "code",
   "execution_count": 54,
   "id": "1j3VtyD4u2f4",
   "metadata": {
    "id": "1j3VtyD4u2f4"
   },
   "outputs": [],
   "source": [
    "from sklearn.feature_extraction.text import TfidfVectorizer"
   ]
  },
  {
   "cell_type": "code",
   "execution_count": 55,
   "id": "JW6ZAVRbu7Wz",
   "metadata": {
    "id": "JW6ZAVRbu7Wz"
   },
   "outputs": [],
   "source": [
    "# Initialize TF-IDF Vectorizer\n",
    "tfidf = TfidfVectorizer(max_features=5000, stop_words='english')\n",
    "\n",
    "# Define and apply stemming\n",
    "ps = PorterStemmer()\n",
    "def stem(text):\n",
    "    return \" \".join(ps.stem(word) for word in text.split())\n",
    "\n",
    "df['tags'] = df['tags'].apply(stem)\n",
    "\n",
    "# Create TF-IDF vectors\n",
    "vectors = tfidf.fit_transform(df['tags']).toarray()\n",
    "similarity = cosine_similarity(vectors)"
   ]
  },
  {
   "cell_type": "code",
   "execution_count": 56,
   "id": "Gr9XfEYTvRMX",
   "metadata": {
    "id": "Gr9XfEYTvRMX"
   },
   "outputs": [],
   "source": [
    "def better_recommend(course_query):\n",
    "    # Find course indices matching the query partially\n",
    "    match_indices = [i for i, title in enumerate(new_df['course_title']) if course_query.lower() in title.lower()]\n",
    "\n",
    "    if not match_indices:\n",
    "        print(\"No courses found. Try another search.\")\n",
    "        return\n",
    "\n",
    "    # Retrieve most similar courses for each found index\n",
    "    recommended_courses = set()\n",
    "    for idx in match_indices:\n",
    "        distances = similarity[idx]\n",
    "        # Get top 6 matches, including the course itself\n",
    "        for i, score in sorted(enumerate(distances), key=lambda x: x[1], reverse=True)[0:10]:\n",
    "            recommended_courses.add(new_df.iloc[i]['course_title'])\n",
    "\n",
    "    for course in recommended_courses:\n",
    "        print(course)\n",
    "\n",
    "\n"
   ]
  },
  {
   "cell_type": "code",
   "execution_count": 57,
   "id": "qIbqFnGTvg-W",
   "metadata": {
    "colab": {
     "base_uri": "https://localhost:8080/"
    },
    "id": "qIbqFnGTvg-W",
    "outputId": "9df152f4-5f1e-4f96-9dac-369e153df35d"
   },
   "outputs": [
    {
     "name": "stdout",
     "output_type": "stream",
     "text": [
      "Pixel Art for Video Games\n",
      "悖论：思维的魔方\n",
      "Art for Games Specialization\n",
      "Character Design for Video Games\n",
      "Art and the Digital Transformation\n",
      "World Design for Video Games\n",
      "Concept Art for Video Games\n",
      "游戏产业概论\n",
      "Становлення сучасної України\n",
      "Low Poly Art For Video Games\n"
     ]
    }
   ],
   "source": [
    "better_recommend('Pixel')"
   ]
  },
  {
   "cell_type": "code",
   "execution_count": 58,
   "id": "6efadb3f",
   "metadata": {
    "colab": {
     "base_uri": "https://localhost:8080/"
    },
    "id": "6efadb3f",
    "outputId": "67c88942-ee50-43ab-f4eb-e447ddf22e1d"
   },
   "outputs": [
    {
     "name": "stdout",
     "output_type": "stream",
     "text": [
      "Concept Art for Video Games\n",
      "Low Poly Art For Video Games\n",
      "Character Design for Video Games\n",
      "Art for Games Specialization\n",
      "World Design for Video Games\n",
      "Art and the Digital Transformation\n"
     ]
    }
   ],
   "source": [
    "recommend('Pixel Art for Video Games')"
   ]
  },
  {
   "cell_type": "code",
   "execution_count": 59,
   "id": "b944954a",
   "metadata": {
    "colab": {
     "base_uri": "https://localhost:8080/"
    },
    "id": "b944954a",
    "outputId": "d86bca24-327d-483f-a356-5df855d30112"
   },
   "outputs": [
    {
     "name": "stdout",
     "output_type": "stream",
     "text": [
      "What Is Contemporary Art?\n",
      "Modern Art & Ideas\n",
      "Wonders of Ancient Egypt\n",
      "Introduction to Ancient Egypt and Its Civilization\n",
      "In the Studio Postwar Abstract Painting\n",
      "Applied Public History Places People Stories\n"
     ]
    }
   ],
   "source": [
    "recommend('Fashion as Design')"
   ]
  },
  {
   "cell_type": "code",
   "execution_count": 60,
   "id": "908c1fa3",
   "metadata": {
    "colab": {
     "base_uri": "https://localhost:8080/"
    },
    "id": "908c1fa3",
    "outputId": "50e86d1c-1b13-401d-be7d-9d32ce377881"
   },
   "outputs": [
    {
     "name": "stdout",
     "output_type": "stream",
     "text": [
      "Social Network Analysis\n",
      "Applied Social Network Analysis in Python\n",
      "Applied Social Network Analysis in Python\n",
      "Social and Economic Networks Models and Analysis\n",
      "Social and Economic Networks Models and Analysis\n",
      "Social and Economic Networks Models and Analysis\n"
     ]
    }
   ],
   "source": [
    "recommend('Visualizing static networks with R')"
   ]
  },
  {
   "cell_type": "markdown",
   "id": "Rw9GqnyuxN0z",
   "metadata": {
    "id": "Rw9GqnyuxN0z"
   },
   "source": [
    "### 10 Creating GUI Using Tkinter"
   ]
  },
  {
   "cell_type": "code",
   "execution_count": 61,
   "id": "9e44b1ac",
   "metadata": {
    "colab": {
     "base_uri": "https://localhost:8080/"
    },
    "id": "9e44b1ac",
    "outputId": "84e389d8-cb2d-4da1-ed01-c1522da17dca"
   },
   "outputs": [
    {
     "name": "stdout",
     "output_type": "stream",
     "text": [
      "Requirement already satisfied: nltk in c:\\users\\santosh velgapuri\\anaconda3\\lib\\site-packages (3.7)\n",
      "Requirement already satisfied: scikit-learn in c:\\users\\santosh velgapuri\\anaconda3\\lib\\site-packages (1.0.2)\n",
      "Requirement already satisfied: tqdm in c:\\users\\santosh velgapuri\\anaconda3\\lib\\site-packages (from nltk) (4.64.0)\n",
      "Requirement already satisfied: joblib in c:\\users\\santosh velgapuri\\anaconda3\\lib\\site-packages (from nltk) (1.1.0)\n",
      "Requirement already satisfied: regex>=2021.8.3 in c:\\users\\santosh velgapuri\\anaconda3\\lib\\site-packages (from nltk) (2022.3.15)\n",
      "Requirement already satisfied: click in c:\\users\\santosh velgapuri\\anaconda3\\lib\\site-packages (from nltk) (8.0.4)\n",
      "Requirement already satisfied: threadpoolctl>=2.0.0 in c:\\users\\santosh velgapuri\\anaconda3\\lib\\site-packages (from scikit-learn) (2.2.0)\n",
      "Requirement already satisfied: numpy>=1.14.6 in c:\\users\\santosh velgapuri\\anaconda3\\lib\\site-packages (from scikit-learn) (1.21.5)\n",
      "Requirement already satisfied: scipy>=1.1.0 in c:\\users\\santosh velgapuri\\anaconda3\\lib\\site-packages (from scikit-learn) (1.7.3)\n",
      "Requirement already satisfied: colorama in c:\\users\\santosh velgapuri\\anaconda3\\lib\\site-packages (from click->nltk) (0.4.4)\n"
     ]
    }
   ],
   "source": [
    "!pip install nltk scikit-learn\n",
    "\n"
   ]
  },
  {
   "cell_type": "code",
   "execution_count": null,
   "id": "ueI0cXztxZqo",
   "metadata": {
    "colab": {
     "base_uri": "https://localhost:8080/",
     "height": 332
    },
    "id": "ueI0cXztxZqo",
    "outputId": "a1d58ac1-20cc-412a-ae53-6ceaf83f9afe"
   },
   "outputs": [],
   "source": [
    "import tkinter as tk\n",
    "from tkinter import simpledialog, messagebox, scrolledtext\n",
    "\n",
    "# Tkinter GUI setup\n",
    "root = tk.Tk()\n",
    "root.title(\"Course Recommendation System\")\n",
    "\n",
    "\n",
    "\n",
    "def get_recommendations():\n",
    "    course_query = entry.get()\n",
    "    if not course_query:\n",
    "        messagebox.showinfo(\"Input needed\", \"Please enter a course title to get recommendations.\")\n",
    "        return\n",
    "\n",
    "    match_indices = [i for i, title in enumerate(new_df['course_title']) if course_query.lower() in title.lower()]\n",
    "    if not match_indices:\n",
    "        messagebox.showinfo(\"No match\", \"No courses found with that title. Try another search.\")\n",
    "        return\n",
    "\n",
    "    recommended_courses = set()\n",
    "    for idx in match_indices:\n",
    "        distances = similarity[idx]\n",
    "        indices = sorted(range(len(distances)), key=lambda j: distances[j], reverse=True)[1:6]\n",
    "        recommended_courses.update(new_df.iloc[index]['course_title'] for index in indices if distances[index] > 0.1)\n",
    "\n",
    "    result_text.delete(1.0, tk.END)\n",
    "    if recommended_courses:\n",
    "        recommended_courses=list(recommended_courses)\n",
    "        result_text.insert(tk.END, \"Top Recommendations:\\n\")\n",
    "        for i, course in enumerate(recommended_courses[:7], 1):\n",
    "            result_text.insert(tk.END, f\"{i}. {course}\\n\")\n",
    "        if len(recommended_courses)>7:\n",
    "            result_text.insert(tk.END, \"\\nOther Recommendations:\\n\")\n",
    "            for i, course in enumerate(recommended_courses[7:], 1):\n",
    "                result_text.insert(tk.END, f\"{i+7}. {course}\\n\")\n",
    "    else:\n",
    "        result_text.insert(tk.END, \"No similar courses found.\")\n",
    "\n",
    "# Widgets\n",
    "entry = tk.Entry(root, width=60)\n",
    "entry.pack(padx=20, pady=20)\n",
    "\n",
    "button = tk.Button(root, text=\"Get Recommendations\", command=get_recommendations)\n",
    "button.pack(pady=10)\n",
    "\n",
    "result_text = scrolledtext.ScrolledText(root, width=80, height=25)\n",
    "result_text.pack(padx=20, pady=20)\n",
    "\n",
    "root.mainloop()\n",
    "  \n",
    "\n"
   ]
  },
  {
   "cell_type": "code",
   "execution_count": null,
   "id": "ucYEXdXcyUsA",
   "metadata": {
    "id": "ucYEXdXcyUsA"
   },
   "outputs": [],
   "source": []
  },
  {
   "cell_type": "code",
   "execution_count": null,
   "id": "ad6bf85c",
   "metadata": {
    "id": "4cff2e65"
   },
   "outputs": [],
   "source": []
  },
  {
   "cell_type": "code",
   "execution_count": null,
   "id": "99407f04",
   "metadata": {},
   "outputs": [],
   "source": []
  }
 ],
 "metadata": {
  "accelerator": "TPU",
  "colab": {
   "gpuType": "V28",
   "provenance": []
  },
  "kernelspec": {
   "display_name": "Python 3 (ipykernel)",
   "language": "python",
   "name": "python3"
  },
  "language_info": {
   "codemirror_mode": {
    "name": "ipython",
    "version": 3
   },
   "file_extension": ".py",
   "mimetype": "text/x-python",
   "name": "python",
   "nbconvert_exporter": "python",
   "pygments_lexer": "ipython3",
   "version": "3.9.12"
  }
 },
 "nbformat": 4,
 "nbformat_minor": 5
}
